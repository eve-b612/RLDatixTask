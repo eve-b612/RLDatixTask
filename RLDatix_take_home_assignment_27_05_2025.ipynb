{
  "nbformat": 4,
  "nbformat_minor": 0,
  "metadata": {
    "colab": {
      "provenance": []
    },
    "kernelspec": {
      "name": "python3",
      "display_name": "Python 3"
    },
    "language_info": {
      "name": "python"
    },
    "widgets": {
      "application/vnd.jupyter.widget-state+json": {
        "ac763e7a95ac4c39b15fa420458ca024": {
          "model_module": "@jupyter-widgets/controls",
          "model_name": "HBoxModel",
          "model_module_version": "1.5.0",
          "state": {
            "_dom_classes": [],
            "_model_module": "@jupyter-widgets/controls",
            "_model_module_version": "1.5.0",
            "_model_name": "HBoxModel",
            "_view_count": null,
            "_view_module": "@jupyter-widgets/controls",
            "_view_module_version": "1.5.0",
            "_view_name": "HBoxView",
            "box_style": "",
            "children": [
              "IPY_MODEL_d1a352c1771040c4ba05ec0c527d995d",
              "IPY_MODEL_fa3001815c7a46669eb14ddb8dd0c3f2",
              "IPY_MODEL_07afbc75f42d4e1a8eccd4163f2235db"
            ],
            "layout": "IPY_MODEL_87d57a5bef2a4cc3b5b639141255ee0a"
          }
        },
        "d1a352c1771040c4ba05ec0c527d995d": {
          "model_module": "@jupyter-widgets/controls",
          "model_name": "HTMLModel",
          "model_module_version": "1.5.0",
          "state": {
            "_dom_classes": [],
            "_model_module": "@jupyter-widgets/controls",
            "_model_module_version": "1.5.0",
            "_model_name": "HTMLModel",
            "_view_count": null,
            "_view_module": "@jupyter-widgets/controls",
            "_view_module_version": "1.5.0",
            "_view_name": "HTMLView",
            "description": "",
            "description_tooltip": null,
            "layout": "IPY_MODEL_42405d8f2c5545adab3e640e6c85b09c",
            "placeholder": "​",
            "style": "IPY_MODEL_5f460a01b82149da808944d9d58980c4",
            "value": "tokenizer_config.json: 100%"
          }
        },
        "fa3001815c7a46669eb14ddb8dd0c3f2": {
          "model_module": "@jupyter-widgets/controls",
          "model_name": "FloatProgressModel",
          "model_module_version": "1.5.0",
          "state": {
            "_dom_classes": [],
            "_model_module": "@jupyter-widgets/controls",
            "_model_module_version": "1.5.0",
            "_model_name": "FloatProgressModel",
            "_view_count": null,
            "_view_module": "@jupyter-widgets/controls",
            "_view_module_version": "1.5.0",
            "_view_name": "ProgressView",
            "bar_style": "success",
            "description": "",
            "description_tooltip": null,
            "layout": "IPY_MODEL_08f0a46e663343b7b61534da981f5b03",
            "max": 373,
            "min": 0,
            "orientation": "horizontal",
            "style": "IPY_MODEL_54d76f45cd0a4ba6ae83e56ff470db50",
            "value": 373
          }
        },
        "07afbc75f42d4e1a8eccd4163f2235db": {
          "model_module": "@jupyter-widgets/controls",
          "model_name": "HTMLModel",
          "model_module_version": "1.5.0",
          "state": {
            "_dom_classes": [],
            "_model_module": "@jupyter-widgets/controls",
            "_model_module_version": "1.5.0",
            "_model_name": "HTMLModel",
            "_view_count": null,
            "_view_module": "@jupyter-widgets/controls",
            "_view_module_version": "1.5.0",
            "_view_name": "HTMLView",
            "description": "",
            "description_tooltip": null,
            "layout": "IPY_MODEL_0f6dce4ad75e4368af6180380b998a81",
            "placeholder": "​",
            "style": "IPY_MODEL_0e241dcf5da44764bc5c2b858b2cee38",
            "value": " 373/373 [00:00&lt;00:00, 18.5kB/s]"
          }
        },
        "87d57a5bef2a4cc3b5b639141255ee0a": {
          "model_module": "@jupyter-widgets/base",
          "model_name": "LayoutModel",
          "model_module_version": "1.2.0",
          "state": {
            "_model_module": "@jupyter-widgets/base",
            "_model_module_version": "1.2.0",
            "_model_name": "LayoutModel",
            "_view_count": null,
            "_view_module": "@jupyter-widgets/base",
            "_view_module_version": "1.2.0",
            "_view_name": "LayoutView",
            "align_content": null,
            "align_items": null,
            "align_self": null,
            "border": null,
            "bottom": null,
            "display": null,
            "flex": null,
            "flex_flow": null,
            "grid_area": null,
            "grid_auto_columns": null,
            "grid_auto_flow": null,
            "grid_auto_rows": null,
            "grid_column": null,
            "grid_gap": null,
            "grid_row": null,
            "grid_template_areas": null,
            "grid_template_columns": null,
            "grid_template_rows": null,
            "height": null,
            "justify_content": null,
            "justify_items": null,
            "left": null,
            "margin": null,
            "max_height": null,
            "max_width": null,
            "min_height": null,
            "min_width": null,
            "object_fit": null,
            "object_position": null,
            "order": null,
            "overflow": null,
            "overflow_x": null,
            "overflow_y": null,
            "padding": null,
            "right": null,
            "top": null,
            "visibility": null,
            "width": null
          }
        },
        "42405d8f2c5545adab3e640e6c85b09c": {
          "model_module": "@jupyter-widgets/base",
          "model_name": "LayoutModel",
          "model_module_version": "1.2.0",
          "state": {
            "_model_module": "@jupyter-widgets/base",
            "_model_module_version": "1.2.0",
            "_model_name": "LayoutModel",
            "_view_count": null,
            "_view_module": "@jupyter-widgets/base",
            "_view_module_version": "1.2.0",
            "_view_name": "LayoutView",
            "align_content": null,
            "align_items": null,
            "align_self": null,
            "border": null,
            "bottom": null,
            "display": null,
            "flex": null,
            "flex_flow": null,
            "grid_area": null,
            "grid_auto_columns": null,
            "grid_auto_flow": null,
            "grid_auto_rows": null,
            "grid_column": null,
            "grid_gap": null,
            "grid_row": null,
            "grid_template_areas": null,
            "grid_template_columns": null,
            "grid_template_rows": null,
            "height": null,
            "justify_content": null,
            "justify_items": null,
            "left": null,
            "margin": null,
            "max_height": null,
            "max_width": null,
            "min_height": null,
            "min_width": null,
            "object_fit": null,
            "object_position": null,
            "order": null,
            "overflow": null,
            "overflow_x": null,
            "overflow_y": null,
            "padding": null,
            "right": null,
            "top": null,
            "visibility": null,
            "width": null
          }
        },
        "5f460a01b82149da808944d9d58980c4": {
          "model_module": "@jupyter-widgets/controls",
          "model_name": "DescriptionStyleModel",
          "model_module_version": "1.5.0",
          "state": {
            "_model_module": "@jupyter-widgets/controls",
            "_model_module_version": "1.5.0",
            "_model_name": "DescriptionStyleModel",
            "_view_count": null,
            "_view_module": "@jupyter-widgets/base",
            "_view_module_version": "1.2.0",
            "_view_name": "StyleView",
            "description_width": ""
          }
        },
        "08f0a46e663343b7b61534da981f5b03": {
          "model_module": "@jupyter-widgets/base",
          "model_name": "LayoutModel",
          "model_module_version": "1.2.0",
          "state": {
            "_model_module": "@jupyter-widgets/base",
            "_model_module_version": "1.2.0",
            "_model_name": "LayoutModel",
            "_view_count": null,
            "_view_module": "@jupyter-widgets/base",
            "_view_module_version": "1.2.0",
            "_view_name": "LayoutView",
            "align_content": null,
            "align_items": null,
            "align_self": null,
            "border": null,
            "bottom": null,
            "display": null,
            "flex": null,
            "flex_flow": null,
            "grid_area": null,
            "grid_auto_columns": null,
            "grid_auto_flow": null,
            "grid_auto_rows": null,
            "grid_column": null,
            "grid_gap": null,
            "grid_row": null,
            "grid_template_areas": null,
            "grid_template_columns": null,
            "grid_template_rows": null,
            "height": null,
            "justify_content": null,
            "justify_items": null,
            "left": null,
            "margin": null,
            "max_height": null,
            "max_width": null,
            "min_height": null,
            "min_width": null,
            "object_fit": null,
            "object_position": null,
            "order": null,
            "overflow": null,
            "overflow_x": null,
            "overflow_y": null,
            "padding": null,
            "right": null,
            "top": null,
            "visibility": null,
            "width": null
          }
        },
        "54d76f45cd0a4ba6ae83e56ff470db50": {
          "model_module": "@jupyter-widgets/controls",
          "model_name": "ProgressStyleModel",
          "model_module_version": "1.5.0",
          "state": {
            "_model_module": "@jupyter-widgets/controls",
            "_model_module_version": "1.5.0",
            "_model_name": "ProgressStyleModel",
            "_view_count": null,
            "_view_module": "@jupyter-widgets/base",
            "_view_module_version": "1.2.0",
            "_view_name": "StyleView",
            "bar_color": null,
            "description_width": ""
          }
        },
        "0f6dce4ad75e4368af6180380b998a81": {
          "model_module": "@jupyter-widgets/base",
          "model_name": "LayoutModel",
          "model_module_version": "1.2.0",
          "state": {
            "_model_module": "@jupyter-widgets/base",
            "_model_module_version": "1.2.0",
            "_model_name": "LayoutModel",
            "_view_count": null,
            "_view_module": "@jupyter-widgets/base",
            "_view_module_version": "1.2.0",
            "_view_name": "LayoutView",
            "align_content": null,
            "align_items": null,
            "align_self": null,
            "border": null,
            "bottom": null,
            "display": null,
            "flex": null,
            "flex_flow": null,
            "grid_area": null,
            "grid_auto_columns": null,
            "grid_auto_flow": null,
            "grid_auto_rows": null,
            "grid_column": null,
            "grid_gap": null,
            "grid_row": null,
            "grid_template_areas": null,
            "grid_template_columns": null,
            "grid_template_rows": null,
            "height": null,
            "justify_content": null,
            "justify_items": null,
            "left": null,
            "margin": null,
            "max_height": null,
            "max_width": null,
            "min_height": null,
            "min_width": null,
            "object_fit": null,
            "object_position": null,
            "order": null,
            "overflow": null,
            "overflow_x": null,
            "overflow_y": null,
            "padding": null,
            "right": null,
            "top": null,
            "visibility": null,
            "width": null
          }
        },
        "0e241dcf5da44764bc5c2b858b2cee38": {
          "model_module": "@jupyter-widgets/controls",
          "model_name": "DescriptionStyleModel",
          "model_module_version": "1.5.0",
          "state": {
            "_model_module": "@jupyter-widgets/controls",
            "_model_module_version": "1.5.0",
            "_model_name": "DescriptionStyleModel",
            "_view_count": null,
            "_view_module": "@jupyter-widgets/base",
            "_view_module_version": "1.2.0",
            "_view_name": "StyleView",
            "description_width": ""
          }
        },
        "c1320f8a96314fd88671b5024d423761": {
          "model_module": "@jupyter-widgets/controls",
          "model_name": "HBoxModel",
          "model_module_version": "1.5.0",
          "state": {
            "_dom_classes": [],
            "_model_module": "@jupyter-widgets/controls",
            "_model_module_version": "1.5.0",
            "_model_name": "HBoxModel",
            "_view_count": null,
            "_view_module": "@jupyter-widgets/controls",
            "_view_module_version": "1.5.0",
            "_view_name": "HBoxView",
            "box_style": "",
            "children": [
              "IPY_MODEL_f67d978cc5b5476a878c489b907ac98e",
              "IPY_MODEL_4b62c130d8fb4a52901b5f4f0b6976b2",
              "IPY_MODEL_293fb462a273480fbb3afcf85d289f55"
            ],
            "layout": "IPY_MODEL_878dc2a5d75b4a47b070e05a17ef58aa"
          }
        },
        "f67d978cc5b5476a878c489b907ac98e": {
          "model_module": "@jupyter-widgets/controls",
          "model_name": "HTMLModel",
          "model_module_version": "1.5.0",
          "state": {
            "_dom_classes": [],
            "_model_module": "@jupyter-widgets/controls",
            "_model_module_version": "1.5.0",
            "_model_name": "HTMLModel",
            "_view_count": null,
            "_view_module": "@jupyter-widgets/controls",
            "_view_module_version": "1.5.0",
            "_view_name": "HTMLView",
            "description": "",
            "description_tooltip": null,
            "layout": "IPY_MODEL_c5d5d4b319344fcdb6f418cd82b76d2c",
            "placeholder": "​",
            "style": "IPY_MODEL_fcdabda3441d4214b8fecd898c84ba9a",
            "value": "vocab.txt: 100%"
          }
        },
        "4b62c130d8fb4a52901b5f4f0b6976b2": {
          "model_module": "@jupyter-widgets/controls",
          "model_name": "FloatProgressModel",
          "model_module_version": "1.5.0",
          "state": {
            "_dom_classes": [],
            "_model_module": "@jupyter-widgets/controls",
            "_model_module_version": "1.5.0",
            "_model_name": "FloatProgressModel",
            "_view_count": null,
            "_view_module": "@jupyter-widgets/controls",
            "_view_module_version": "1.5.0",
            "_view_name": "ProgressView",
            "bar_style": "success",
            "description": "",
            "description_tooltip": null,
            "layout": "IPY_MODEL_e9d0bc8900174dbc8592091f91f37eaf",
            "max": 231508,
            "min": 0,
            "orientation": "horizontal",
            "style": "IPY_MODEL_e15cab68dc664bbfa793e62a8bf01799",
            "value": 231508
          }
        },
        "293fb462a273480fbb3afcf85d289f55": {
          "model_module": "@jupyter-widgets/controls",
          "model_name": "HTMLModel",
          "model_module_version": "1.5.0",
          "state": {
            "_dom_classes": [],
            "_model_module": "@jupyter-widgets/controls",
            "_model_module_version": "1.5.0",
            "_model_name": "HTMLModel",
            "_view_count": null,
            "_view_module": "@jupyter-widgets/controls",
            "_view_module_version": "1.5.0",
            "_view_name": "HTMLView",
            "description": "",
            "description_tooltip": null,
            "layout": "IPY_MODEL_aea41f80d87f49488d49e7562f418f1a",
            "placeholder": "​",
            "style": "IPY_MODEL_16cf8d265b324543a2e12c7665d378a9",
            "value": " 232k/232k [00:00&lt;00:00, 3.47MB/s]"
          }
        },
        "878dc2a5d75b4a47b070e05a17ef58aa": {
          "model_module": "@jupyter-widgets/base",
          "model_name": "LayoutModel",
          "model_module_version": "1.2.0",
          "state": {
            "_model_module": "@jupyter-widgets/base",
            "_model_module_version": "1.2.0",
            "_model_name": "LayoutModel",
            "_view_count": null,
            "_view_module": "@jupyter-widgets/base",
            "_view_module_version": "1.2.0",
            "_view_name": "LayoutView",
            "align_content": null,
            "align_items": null,
            "align_self": null,
            "border": null,
            "bottom": null,
            "display": null,
            "flex": null,
            "flex_flow": null,
            "grid_area": null,
            "grid_auto_columns": null,
            "grid_auto_flow": null,
            "grid_auto_rows": null,
            "grid_column": null,
            "grid_gap": null,
            "grid_row": null,
            "grid_template_areas": null,
            "grid_template_columns": null,
            "grid_template_rows": null,
            "height": null,
            "justify_content": null,
            "justify_items": null,
            "left": null,
            "margin": null,
            "max_height": null,
            "max_width": null,
            "min_height": null,
            "min_width": null,
            "object_fit": null,
            "object_position": null,
            "order": null,
            "overflow": null,
            "overflow_x": null,
            "overflow_y": null,
            "padding": null,
            "right": null,
            "top": null,
            "visibility": null,
            "width": null
          }
        },
        "c5d5d4b319344fcdb6f418cd82b76d2c": {
          "model_module": "@jupyter-widgets/base",
          "model_name": "LayoutModel",
          "model_module_version": "1.2.0",
          "state": {
            "_model_module": "@jupyter-widgets/base",
            "_model_module_version": "1.2.0",
            "_model_name": "LayoutModel",
            "_view_count": null,
            "_view_module": "@jupyter-widgets/base",
            "_view_module_version": "1.2.0",
            "_view_name": "LayoutView",
            "align_content": null,
            "align_items": null,
            "align_self": null,
            "border": null,
            "bottom": null,
            "display": null,
            "flex": null,
            "flex_flow": null,
            "grid_area": null,
            "grid_auto_columns": null,
            "grid_auto_flow": null,
            "grid_auto_rows": null,
            "grid_column": null,
            "grid_gap": null,
            "grid_row": null,
            "grid_template_areas": null,
            "grid_template_columns": null,
            "grid_template_rows": null,
            "height": null,
            "justify_content": null,
            "justify_items": null,
            "left": null,
            "margin": null,
            "max_height": null,
            "max_width": null,
            "min_height": null,
            "min_width": null,
            "object_fit": null,
            "object_position": null,
            "order": null,
            "overflow": null,
            "overflow_x": null,
            "overflow_y": null,
            "padding": null,
            "right": null,
            "top": null,
            "visibility": null,
            "width": null
          }
        },
        "fcdabda3441d4214b8fecd898c84ba9a": {
          "model_module": "@jupyter-widgets/controls",
          "model_name": "DescriptionStyleModel",
          "model_module_version": "1.5.0",
          "state": {
            "_model_module": "@jupyter-widgets/controls",
            "_model_module_version": "1.5.0",
            "_model_name": "DescriptionStyleModel",
            "_view_count": null,
            "_view_module": "@jupyter-widgets/base",
            "_view_module_version": "1.2.0",
            "_view_name": "StyleView",
            "description_width": ""
          }
        },
        "e9d0bc8900174dbc8592091f91f37eaf": {
          "model_module": "@jupyter-widgets/base",
          "model_name": "LayoutModel",
          "model_module_version": "1.2.0",
          "state": {
            "_model_module": "@jupyter-widgets/base",
            "_model_module_version": "1.2.0",
            "_model_name": "LayoutModel",
            "_view_count": null,
            "_view_module": "@jupyter-widgets/base",
            "_view_module_version": "1.2.0",
            "_view_name": "LayoutView",
            "align_content": null,
            "align_items": null,
            "align_self": null,
            "border": null,
            "bottom": null,
            "display": null,
            "flex": null,
            "flex_flow": null,
            "grid_area": null,
            "grid_auto_columns": null,
            "grid_auto_flow": null,
            "grid_auto_rows": null,
            "grid_column": null,
            "grid_gap": null,
            "grid_row": null,
            "grid_template_areas": null,
            "grid_template_columns": null,
            "grid_template_rows": null,
            "height": null,
            "justify_content": null,
            "justify_items": null,
            "left": null,
            "margin": null,
            "max_height": null,
            "max_width": null,
            "min_height": null,
            "min_width": null,
            "object_fit": null,
            "object_position": null,
            "order": null,
            "overflow": null,
            "overflow_x": null,
            "overflow_y": null,
            "padding": null,
            "right": null,
            "top": null,
            "visibility": null,
            "width": null
          }
        },
        "e15cab68dc664bbfa793e62a8bf01799": {
          "model_module": "@jupyter-widgets/controls",
          "model_name": "ProgressStyleModel",
          "model_module_version": "1.5.0",
          "state": {
            "_model_module": "@jupyter-widgets/controls",
            "_model_module_version": "1.5.0",
            "_model_name": "ProgressStyleModel",
            "_view_count": null,
            "_view_module": "@jupyter-widgets/base",
            "_view_module_version": "1.2.0",
            "_view_name": "StyleView",
            "bar_color": null,
            "description_width": ""
          }
        },
        "aea41f80d87f49488d49e7562f418f1a": {
          "model_module": "@jupyter-widgets/base",
          "model_name": "LayoutModel",
          "model_module_version": "1.2.0",
          "state": {
            "_model_module": "@jupyter-widgets/base",
            "_model_module_version": "1.2.0",
            "_model_name": "LayoutModel",
            "_view_count": null,
            "_view_module": "@jupyter-widgets/base",
            "_view_module_version": "1.2.0",
            "_view_name": "LayoutView",
            "align_content": null,
            "align_items": null,
            "align_self": null,
            "border": null,
            "bottom": null,
            "display": null,
            "flex": null,
            "flex_flow": null,
            "grid_area": null,
            "grid_auto_columns": null,
            "grid_auto_flow": null,
            "grid_auto_rows": null,
            "grid_column": null,
            "grid_gap": null,
            "grid_row": null,
            "grid_template_areas": null,
            "grid_template_columns": null,
            "grid_template_rows": null,
            "height": null,
            "justify_content": null,
            "justify_items": null,
            "left": null,
            "margin": null,
            "max_height": null,
            "max_width": null,
            "min_height": null,
            "min_width": null,
            "object_fit": null,
            "object_position": null,
            "order": null,
            "overflow": null,
            "overflow_x": null,
            "overflow_y": null,
            "padding": null,
            "right": null,
            "top": null,
            "visibility": null,
            "width": null
          }
        },
        "16cf8d265b324543a2e12c7665d378a9": {
          "model_module": "@jupyter-widgets/controls",
          "model_name": "DescriptionStyleModel",
          "model_module_version": "1.5.0",
          "state": {
            "_model_module": "@jupyter-widgets/controls",
            "_model_module_version": "1.5.0",
            "_model_name": "DescriptionStyleModel",
            "_view_count": null,
            "_view_module": "@jupyter-widgets/base",
            "_view_module_version": "1.2.0",
            "_view_name": "StyleView",
            "description_width": ""
          }
        },
        "ff9ae3324fc845f3a211dd4eca41357e": {
          "model_module": "@jupyter-widgets/controls",
          "model_name": "HBoxModel",
          "model_module_version": "1.5.0",
          "state": {
            "_dom_classes": [],
            "_model_module": "@jupyter-widgets/controls",
            "_model_module_version": "1.5.0",
            "_model_name": "HBoxModel",
            "_view_count": null,
            "_view_module": "@jupyter-widgets/controls",
            "_view_module_version": "1.5.0",
            "_view_name": "HBoxView",
            "box_style": "",
            "children": [
              "IPY_MODEL_392268f375f640678c6471218e6e49d8",
              "IPY_MODEL_4700f6da48884fafb47a730720106b9c",
              "IPY_MODEL_bcc023761103463f9af698b19092db04"
            ],
            "layout": "IPY_MODEL_784d4237664840d48a0d478064aaaeb0"
          }
        },
        "392268f375f640678c6471218e6e49d8": {
          "model_module": "@jupyter-widgets/controls",
          "model_name": "HTMLModel",
          "model_module_version": "1.5.0",
          "state": {
            "_dom_classes": [],
            "_model_module": "@jupyter-widgets/controls",
            "_model_module_version": "1.5.0",
            "_model_name": "HTMLModel",
            "_view_count": null,
            "_view_module": "@jupyter-widgets/controls",
            "_view_module_version": "1.5.0",
            "_view_name": "HTMLView",
            "description": "",
            "description_tooltip": null,
            "layout": "IPY_MODEL_cddef56d03f447f5960143673b9d5863",
            "placeholder": "​",
            "style": "IPY_MODEL_fbf731892d6349f496fdea627ee163e1",
            "value": "tokenizer.json: 100%"
          }
        },
        "4700f6da48884fafb47a730720106b9c": {
          "model_module": "@jupyter-widgets/controls",
          "model_name": "FloatProgressModel",
          "model_module_version": "1.5.0",
          "state": {
            "_dom_classes": [],
            "_model_module": "@jupyter-widgets/controls",
            "_model_module_version": "1.5.0",
            "_model_name": "FloatProgressModel",
            "_view_count": null,
            "_view_module": "@jupyter-widgets/controls",
            "_view_module_version": "1.5.0",
            "_view_name": "ProgressView",
            "bar_style": "success",
            "description": "",
            "description_tooltip": null,
            "layout": "IPY_MODEL_163e1b21fbd24ad59545a8c8fd09869e",
            "max": 711494,
            "min": 0,
            "orientation": "horizontal",
            "style": "IPY_MODEL_274d9025825d4f86b2a742c8225cb8a1",
            "value": 711494
          }
        },
        "bcc023761103463f9af698b19092db04": {
          "model_module": "@jupyter-widgets/controls",
          "model_name": "HTMLModel",
          "model_module_version": "1.5.0",
          "state": {
            "_dom_classes": [],
            "_model_module": "@jupyter-widgets/controls",
            "_model_module_version": "1.5.0",
            "_model_name": "HTMLModel",
            "_view_count": null,
            "_view_module": "@jupyter-widgets/controls",
            "_view_module_version": "1.5.0",
            "_view_name": "HTMLView",
            "description": "",
            "description_tooltip": null,
            "layout": "IPY_MODEL_51e10de505e34c4f8c429c7665a1e4b6",
            "placeholder": "​",
            "style": "IPY_MODEL_8dfad6160c7848458d7071ee7d12bcb0",
            "value": " 711k/711k [00:00&lt;00:00, 5.14MB/s]"
          }
        },
        "784d4237664840d48a0d478064aaaeb0": {
          "model_module": "@jupyter-widgets/base",
          "model_name": "LayoutModel",
          "model_module_version": "1.2.0",
          "state": {
            "_model_module": "@jupyter-widgets/base",
            "_model_module_version": "1.2.0",
            "_model_name": "LayoutModel",
            "_view_count": null,
            "_view_module": "@jupyter-widgets/base",
            "_view_module_version": "1.2.0",
            "_view_name": "LayoutView",
            "align_content": null,
            "align_items": null,
            "align_self": null,
            "border": null,
            "bottom": null,
            "display": null,
            "flex": null,
            "flex_flow": null,
            "grid_area": null,
            "grid_auto_columns": null,
            "grid_auto_flow": null,
            "grid_auto_rows": null,
            "grid_column": null,
            "grid_gap": null,
            "grid_row": null,
            "grid_template_areas": null,
            "grid_template_columns": null,
            "grid_template_rows": null,
            "height": null,
            "justify_content": null,
            "justify_items": null,
            "left": null,
            "margin": null,
            "max_height": null,
            "max_width": null,
            "min_height": null,
            "min_width": null,
            "object_fit": null,
            "object_position": null,
            "order": null,
            "overflow": null,
            "overflow_x": null,
            "overflow_y": null,
            "padding": null,
            "right": null,
            "top": null,
            "visibility": null,
            "width": null
          }
        },
        "cddef56d03f447f5960143673b9d5863": {
          "model_module": "@jupyter-widgets/base",
          "model_name": "LayoutModel",
          "model_module_version": "1.2.0",
          "state": {
            "_model_module": "@jupyter-widgets/base",
            "_model_module_version": "1.2.0",
            "_model_name": "LayoutModel",
            "_view_count": null,
            "_view_module": "@jupyter-widgets/base",
            "_view_module_version": "1.2.0",
            "_view_name": "LayoutView",
            "align_content": null,
            "align_items": null,
            "align_self": null,
            "border": null,
            "bottom": null,
            "display": null,
            "flex": null,
            "flex_flow": null,
            "grid_area": null,
            "grid_auto_columns": null,
            "grid_auto_flow": null,
            "grid_auto_rows": null,
            "grid_column": null,
            "grid_gap": null,
            "grid_row": null,
            "grid_template_areas": null,
            "grid_template_columns": null,
            "grid_template_rows": null,
            "height": null,
            "justify_content": null,
            "justify_items": null,
            "left": null,
            "margin": null,
            "max_height": null,
            "max_width": null,
            "min_height": null,
            "min_width": null,
            "object_fit": null,
            "object_position": null,
            "order": null,
            "overflow": null,
            "overflow_x": null,
            "overflow_y": null,
            "padding": null,
            "right": null,
            "top": null,
            "visibility": null,
            "width": null
          }
        },
        "fbf731892d6349f496fdea627ee163e1": {
          "model_module": "@jupyter-widgets/controls",
          "model_name": "DescriptionStyleModel",
          "model_module_version": "1.5.0",
          "state": {
            "_model_module": "@jupyter-widgets/controls",
            "_model_module_version": "1.5.0",
            "_model_name": "DescriptionStyleModel",
            "_view_count": null,
            "_view_module": "@jupyter-widgets/base",
            "_view_module_version": "1.2.0",
            "_view_name": "StyleView",
            "description_width": ""
          }
        },
        "163e1b21fbd24ad59545a8c8fd09869e": {
          "model_module": "@jupyter-widgets/base",
          "model_name": "LayoutModel",
          "model_module_version": "1.2.0",
          "state": {
            "_model_module": "@jupyter-widgets/base",
            "_model_module_version": "1.2.0",
            "_model_name": "LayoutModel",
            "_view_count": null,
            "_view_module": "@jupyter-widgets/base",
            "_view_module_version": "1.2.0",
            "_view_name": "LayoutView",
            "align_content": null,
            "align_items": null,
            "align_self": null,
            "border": null,
            "bottom": null,
            "display": null,
            "flex": null,
            "flex_flow": null,
            "grid_area": null,
            "grid_auto_columns": null,
            "grid_auto_flow": null,
            "grid_auto_rows": null,
            "grid_column": null,
            "grid_gap": null,
            "grid_row": null,
            "grid_template_areas": null,
            "grid_template_columns": null,
            "grid_template_rows": null,
            "height": null,
            "justify_content": null,
            "justify_items": null,
            "left": null,
            "margin": null,
            "max_height": null,
            "max_width": null,
            "min_height": null,
            "min_width": null,
            "object_fit": null,
            "object_position": null,
            "order": null,
            "overflow": null,
            "overflow_x": null,
            "overflow_y": null,
            "padding": null,
            "right": null,
            "top": null,
            "visibility": null,
            "width": null
          }
        },
        "274d9025825d4f86b2a742c8225cb8a1": {
          "model_module": "@jupyter-widgets/controls",
          "model_name": "ProgressStyleModel",
          "model_module_version": "1.5.0",
          "state": {
            "_model_module": "@jupyter-widgets/controls",
            "_model_module_version": "1.5.0",
            "_model_name": "ProgressStyleModel",
            "_view_count": null,
            "_view_module": "@jupyter-widgets/base",
            "_view_module_version": "1.2.0",
            "_view_name": "StyleView",
            "bar_color": null,
            "description_width": ""
          }
        },
        "51e10de505e34c4f8c429c7665a1e4b6": {
          "model_module": "@jupyter-widgets/base",
          "model_name": "LayoutModel",
          "model_module_version": "1.2.0",
          "state": {
            "_model_module": "@jupyter-widgets/base",
            "_model_module_version": "1.2.0",
            "_model_name": "LayoutModel",
            "_view_count": null,
            "_view_module": "@jupyter-widgets/base",
            "_view_module_version": "1.2.0",
            "_view_name": "LayoutView",
            "align_content": null,
            "align_items": null,
            "align_self": null,
            "border": null,
            "bottom": null,
            "display": null,
            "flex": null,
            "flex_flow": null,
            "grid_area": null,
            "grid_auto_columns": null,
            "grid_auto_flow": null,
            "grid_auto_rows": null,
            "grid_column": null,
            "grid_gap": null,
            "grid_row": null,
            "grid_template_areas": null,
            "grid_template_columns": null,
            "grid_template_rows": null,
            "height": null,
            "justify_content": null,
            "justify_items": null,
            "left": null,
            "margin": null,
            "max_height": null,
            "max_width": null,
            "min_height": null,
            "min_width": null,
            "object_fit": null,
            "object_position": null,
            "order": null,
            "overflow": null,
            "overflow_x": null,
            "overflow_y": null,
            "padding": null,
            "right": null,
            "top": null,
            "visibility": null,
            "width": null
          }
        },
        "8dfad6160c7848458d7071ee7d12bcb0": {
          "model_module": "@jupyter-widgets/controls",
          "model_name": "DescriptionStyleModel",
          "model_module_version": "1.5.0",
          "state": {
            "_model_module": "@jupyter-widgets/controls",
            "_model_module_version": "1.5.0",
            "_model_name": "DescriptionStyleModel",
            "_view_count": null,
            "_view_module": "@jupyter-widgets/base",
            "_view_module_version": "1.2.0",
            "_view_name": "StyleView",
            "description_width": ""
          }
        },
        "9c386e60316247d4b65f76d25b70a757": {
          "model_module": "@jupyter-widgets/controls",
          "model_name": "HBoxModel",
          "model_module_version": "1.5.0",
          "state": {
            "_dom_classes": [],
            "_model_module": "@jupyter-widgets/controls",
            "_model_module_version": "1.5.0",
            "_model_name": "HBoxModel",
            "_view_count": null,
            "_view_module": "@jupyter-widgets/controls",
            "_view_module_version": "1.5.0",
            "_view_name": "HBoxView",
            "box_style": "",
            "children": [
              "IPY_MODEL_f7ef6ac13c394e298dd553aa28f9c2dd",
              "IPY_MODEL_6d78a245a71e41d78cc5166a63b08ec9",
              "IPY_MODEL_6ef2c8651eab47fb81c418d94f238aa8"
            ],
            "layout": "IPY_MODEL_7bed0c17e7f748e9858c852ac96ae571"
          }
        },
        "f7ef6ac13c394e298dd553aa28f9c2dd": {
          "model_module": "@jupyter-widgets/controls",
          "model_name": "HTMLModel",
          "model_module_version": "1.5.0",
          "state": {
            "_dom_classes": [],
            "_model_module": "@jupyter-widgets/controls",
            "_model_module_version": "1.5.0",
            "_model_name": "HTMLModel",
            "_view_count": null,
            "_view_module": "@jupyter-widgets/controls",
            "_view_module_version": "1.5.0",
            "_view_name": "HTMLView",
            "description": "",
            "description_tooltip": null,
            "layout": "IPY_MODEL_b126f2ef69f94eb69960d8e222dbf865",
            "placeholder": "​",
            "style": "IPY_MODEL_875d9a36f4884a12b4f83eb057dcef45",
            "value": "special_tokens_map.json: 100%"
          }
        },
        "6d78a245a71e41d78cc5166a63b08ec9": {
          "model_module": "@jupyter-widgets/controls",
          "model_name": "FloatProgressModel",
          "model_module_version": "1.5.0",
          "state": {
            "_dom_classes": [],
            "_model_module": "@jupyter-widgets/controls",
            "_model_module_version": "1.5.0",
            "_model_name": "FloatProgressModel",
            "_view_count": null,
            "_view_module": "@jupyter-widgets/controls",
            "_view_module_version": "1.5.0",
            "_view_name": "ProgressView",
            "bar_style": "success",
            "description": "",
            "description_tooltip": null,
            "layout": "IPY_MODEL_6736f82e3e81406b93e8dbb8bbdfa841",
            "max": 125,
            "min": 0,
            "orientation": "horizontal",
            "style": "IPY_MODEL_201b12243ec84d439f863962f19b452d",
            "value": 125
          }
        },
        "6ef2c8651eab47fb81c418d94f238aa8": {
          "model_module": "@jupyter-widgets/controls",
          "model_name": "HTMLModel",
          "model_module_version": "1.5.0",
          "state": {
            "_dom_classes": [],
            "_model_module": "@jupyter-widgets/controls",
            "_model_module_version": "1.5.0",
            "_model_name": "HTMLModel",
            "_view_count": null,
            "_view_module": "@jupyter-widgets/controls",
            "_view_module_version": "1.5.0",
            "_view_name": "HTMLView",
            "description": "",
            "description_tooltip": null,
            "layout": "IPY_MODEL_a9de7a35b785450a8172ff64afc26904",
            "placeholder": "​",
            "style": "IPY_MODEL_c172929f7abd45bca725173789dc31d7",
            "value": " 125/125 [00:00&lt;00:00, 4.89kB/s]"
          }
        },
        "7bed0c17e7f748e9858c852ac96ae571": {
          "model_module": "@jupyter-widgets/base",
          "model_name": "LayoutModel",
          "model_module_version": "1.2.0",
          "state": {
            "_model_module": "@jupyter-widgets/base",
            "_model_module_version": "1.2.0",
            "_model_name": "LayoutModel",
            "_view_count": null,
            "_view_module": "@jupyter-widgets/base",
            "_view_module_version": "1.2.0",
            "_view_name": "LayoutView",
            "align_content": null,
            "align_items": null,
            "align_self": null,
            "border": null,
            "bottom": null,
            "display": null,
            "flex": null,
            "flex_flow": null,
            "grid_area": null,
            "grid_auto_columns": null,
            "grid_auto_flow": null,
            "grid_auto_rows": null,
            "grid_column": null,
            "grid_gap": null,
            "grid_row": null,
            "grid_template_areas": null,
            "grid_template_columns": null,
            "grid_template_rows": null,
            "height": null,
            "justify_content": null,
            "justify_items": null,
            "left": null,
            "margin": null,
            "max_height": null,
            "max_width": null,
            "min_height": null,
            "min_width": null,
            "object_fit": null,
            "object_position": null,
            "order": null,
            "overflow": null,
            "overflow_x": null,
            "overflow_y": null,
            "padding": null,
            "right": null,
            "top": null,
            "visibility": null,
            "width": null
          }
        },
        "b126f2ef69f94eb69960d8e222dbf865": {
          "model_module": "@jupyter-widgets/base",
          "model_name": "LayoutModel",
          "model_module_version": "1.2.0",
          "state": {
            "_model_module": "@jupyter-widgets/base",
            "_model_module_version": "1.2.0",
            "_model_name": "LayoutModel",
            "_view_count": null,
            "_view_module": "@jupyter-widgets/base",
            "_view_module_version": "1.2.0",
            "_view_name": "LayoutView",
            "align_content": null,
            "align_items": null,
            "align_self": null,
            "border": null,
            "bottom": null,
            "display": null,
            "flex": null,
            "flex_flow": null,
            "grid_area": null,
            "grid_auto_columns": null,
            "grid_auto_flow": null,
            "grid_auto_rows": null,
            "grid_column": null,
            "grid_gap": null,
            "grid_row": null,
            "grid_template_areas": null,
            "grid_template_columns": null,
            "grid_template_rows": null,
            "height": null,
            "justify_content": null,
            "justify_items": null,
            "left": null,
            "margin": null,
            "max_height": null,
            "max_width": null,
            "min_height": null,
            "min_width": null,
            "object_fit": null,
            "object_position": null,
            "order": null,
            "overflow": null,
            "overflow_x": null,
            "overflow_y": null,
            "padding": null,
            "right": null,
            "top": null,
            "visibility": null,
            "width": null
          }
        },
        "875d9a36f4884a12b4f83eb057dcef45": {
          "model_module": "@jupyter-widgets/controls",
          "model_name": "DescriptionStyleModel",
          "model_module_version": "1.5.0",
          "state": {
            "_model_module": "@jupyter-widgets/controls",
            "_model_module_version": "1.5.0",
            "_model_name": "DescriptionStyleModel",
            "_view_count": null,
            "_view_module": "@jupyter-widgets/base",
            "_view_module_version": "1.2.0",
            "_view_name": "StyleView",
            "description_width": ""
          }
        },
        "6736f82e3e81406b93e8dbb8bbdfa841": {
          "model_module": "@jupyter-widgets/base",
          "model_name": "LayoutModel",
          "model_module_version": "1.2.0",
          "state": {
            "_model_module": "@jupyter-widgets/base",
            "_model_module_version": "1.2.0",
            "_model_name": "LayoutModel",
            "_view_count": null,
            "_view_module": "@jupyter-widgets/base",
            "_view_module_version": "1.2.0",
            "_view_name": "LayoutView",
            "align_content": null,
            "align_items": null,
            "align_self": null,
            "border": null,
            "bottom": null,
            "display": null,
            "flex": null,
            "flex_flow": null,
            "grid_area": null,
            "grid_auto_columns": null,
            "grid_auto_flow": null,
            "grid_auto_rows": null,
            "grid_column": null,
            "grid_gap": null,
            "grid_row": null,
            "grid_template_areas": null,
            "grid_template_columns": null,
            "grid_template_rows": null,
            "height": null,
            "justify_content": null,
            "justify_items": null,
            "left": null,
            "margin": null,
            "max_height": null,
            "max_width": null,
            "min_height": null,
            "min_width": null,
            "object_fit": null,
            "object_position": null,
            "order": null,
            "overflow": null,
            "overflow_x": null,
            "overflow_y": null,
            "padding": null,
            "right": null,
            "top": null,
            "visibility": null,
            "width": null
          }
        },
        "201b12243ec84d439f863962f19b452d": {
          "model_module": "@jupyter-widgets/controls",
          "model_name": "ProgressStyleModel",
          "model_module_version": "1.5.0",
          "state": {
            "_model_module": "@jupyter-widgets/controls",
            "_model_module_version": "1.5.0",
            "_model_name": "ProgressStyleModel",
            "_view_count": null,
            "_view_module": "@jupyter-widgets/base",
            "_view_module_version": "1.2.0",
            "_view_name": "StyleView",
            "bar_color": null,
            "description_width": ""
          }
        },
        "a9de7a35b785450a8172ff64afc26904": {
          "model_module": "@jupyter-widgets/base",
          "model_name": "LayoutModel",
          "model_module_version": "1.2.0",
          "state": {
            "_model_module": "@jupyter-widgets/base",
            "_model_module_version": "1.2.0",
            "_model_name": "LayoutModel",
            "_view_count": null,
            "_view_module": "@jupyter-widgets/base",
            "_view_module_version": "1.2.0",
            "_view_name": "LayoutView",
            "align_content": null,
            "align_items": null,
            "align_self": null,
            "border": null,
            "bottom": null,
            "display": null,
            "flex": null,
            "flex_flow": null,
            "grid_area": null,
            "grid_auto_columns": null,
            "grid_auto_flow": null,
            "grid_auto_rows": null,
            "grid_column": null,
            "grid_gap": null,
            "grid_row": null,
            "grid_template_areas": null,
            "grid_template_columns": null,
            "grid_template_rows": null,
            "height": null,
            "justify_content": null,
            "justify_items": null,
            "left": null,
            "margin": null,
            "max_height": null,
            "max_width": null,
            "min_height": null,
            "min_width": null,
            "object_fit": null,
            "object_position": null,
            "order": null,
            "overflow": null,
            "overflow_x": null,
            "overflow_y": null,
            "padding": null,
            "right": null,
            "top": null,
            "visibility": null,
            "width": null
          }
        },
        "c172929f7abd45bca725173789dc31d7": {
          "model_module": "@jupyter-widgets/controls",
          "model_name": "DescriptionStyleModel",
          "model_module_version": "1.5.0",
          "state": {
            "_model_module": "@jupyter-widgets/controls",
            "_model_module_version": "1.5.0",
            "_model_name": "DescriptionStyleModel",
            "_view_count": null,
            "_view_module": "@jupyter-widgets/base",
            "_view_module_version": "1.2.0",
            "_view_name": "StyleView",
            "description_width": ""
          }
        },
        "a8e2bef8a5e449388c32a0b38bd11519": {
          "model_module": "@jupyter-widgets/controls",
          "model_name": "HBoxModel",
          "model_module_version": "1.5.0",
          "state": {
            "_dom_classes": [],
            "_model_module": "@jupyter-widgets/controls",
            "_model_module_version": "1.5.0",
            "_model_name": "HBoxModel",
            "_view_count": null,
            "_view_module": "@jupyter-widgets/controls",
            "_view_module_version": "1.5.0",
            "_view_name": "HBoxView",
            "box_style": "",
            "children": [
              "IPY_MODEL_6a5c4d1eab8340169403e9a340f2308a",
              "IPY_MODEL_f16a67fff7594ec3aee31c1962a410ce",
              "IPY_MODEL_44aef507ccd645508f4483ffec6f16f1"
            ],
            "layout": "IPY_MODEL_36ac3b5c0d1e48fab92b1b65bcdfafec"
          }
        },
        "6a5c4d1eab8340169403e9a340f2308a": {
          "model_module": "@jupyter-widgets/controls",
          "model_name": "HTMLModel",
          "model_module_version": "1.5.0",
          "state": {
            "_dom_classes": [],
            "_model_module": "@jupyter-widgets/controls",
            "_model_module_version": "1.5.0",
            "_model_name": "HTMLModel",
            "_view_count": null,
            "_view_module": "@jupyter-widgets/controls",
            "_view_module_version": "1.5.0",
            "_view_name": "HTMLView",
            "description": "",
            "description_tooltip": null,
            "layout": "IPY_MODEL_1c6bee1b4ec04ce0918c316cee7a797e",
            "placeholder": "​",
            "style": "IPY_MODEL_8714e5be5db3462dbd0333d3f065f479",
            "value": "config.json: 100%"
          }
        },
        "f16a67fff7594ec3aee31c1962a410ce": {
          "model_module": "@jupyter-widgets/controls",
          "model_name": "FloatProgressModel",
          "model_module_version": "1.5.0",
          "state": {
            "_dom_classes": [],
            "_model_module": "@jupyter-widgets/controls",
            "_model_module_version": "1.5.0",
            "_model_name": "FloatProgressModel",
            "_view_count": null,
            "_view_module": "@jupyter-widgets/controls",
            "_view_module_version": "1.5.0",
            "_view_name": "ProgressView",
            "bar_style": "success",
            "description": "",
            "description_tooltip": null,
            "layout": "IPY_MODEL_edb5db5f67004ef782a9ddd1471c9c43",
            "max": 4995,
            "min": 0,
            "orientation": "horizontal",
            "style": "IPY_MODEL_c619103277444d8798ea03d09cb89cfa",
            "value": 4995
          }
        },
        "44aef507ccd645508f4483ffec6f16f1": {
          "model_module": "@jupyter-widgets/controls",
          "model_name": "HTMLModel",
          "model_module_version": "1.5.0",
          "state": {
            "_dom_classes": [],
            "_model_module": "@jupyter-widgets/controls",
            "_model_module_version": "1.5.0",
            "_model_name": "HTMLModel",
            "_view_count": null,
            "_view_module": "@jupyter-widgets/controls",
            "_view_module_version": "1.5.0",
            "_view_name": "HTMLView",
            "description": "",
            "description_tooltip": null,
            "layout": "IPY_MODEL_9f9c320975e34cd794dd447f69f188f2",
            "placeholder": "​",
            "style": "IPY_MODEL_495fe78b9cd74a9aab87f3507be4b1ac",
            "value": " 5.00k/5.00k [00:00&lt;00:00, 214kB/s]"
          }
        },
        "36ac3b5c0d1e48fab92b1b65bcdfafec": {
          "model_module": "@jupyter-widgets/base",
          "model_name": "LayoutModel",
          "model_module_version": "1.2.0",
          "state": {
            "_model_module": "@jupyter-widgets/base",
            "_model_module_version": "1.2.0",
            "_model_name": "LayoutModel",
            "_view_count": null,
            "_view_module": "@jupyter-widgets/base",
            "_view_module_version": "1.2.0",
            "_view_name": "LayoutView",
            "align_content": null,
            "align_items": null,
            "align_self": null,
            "border": null,
            "bottom": null,
            "display": null,
            "flex": null,
            "flex_flow": null,
            "grid_area": null,
            "grid_auto_columns": null,
            "grid_auto_flow": null,
            "grid_auto_rows": null,
            "grid_column": null,
            "grid_gap": null,
            "grid_row": null,
            "grid_template_areas": null,
            "grid_template_columns": null,
            "grid_template_rows": null,
            "height": null,
            "justify_content": null,
            "justify_items": null,
            "left": null,
            "margin": null,
            "max_height": null,
            "max_width": null,
            "min_height": null,
            "min_width": null,
            "object_fit": null,
            "object_position": null,
            "order": null,
            "overflow": null,
            "overflow_x": null,
            "overflow_y": null,
            "padding": null,
            "right": null,
            "top": null,
            "visibility": null,
            "width": null
          }
        },
        "1c6bee1b4ec04ce0918c316cee7a797e": {
          "model_module": "@jupyter-widgets/base",
          "model_name": "LayoutModel",
          "model_module_version": "1.2.0",
          "state": {
            "_model_module": "@jupyter-widgets/base",
            "_model_module_version": "1.2.0",
            "_model_name": "LayoutModel",
            "_view_count": null,
            "_view_module": "@jupyter-widgets/base",
            "_view_module_version": "1.2.0",
            "_view_name": "LayoutView",
            "align_content": null,
            "align_items": null,
            "align_self": null,
            "border": null,
            "bottom": null,
            "display": null,
            "flex": null,
            "flex_flow": null,
            "grid_area": null,
            "grid_auto_columns": null,
            "grid_auto_flow": null,
            "grid_auto_rows": null,
            "grid_column": null,
            "grid_gap": null,
            "grid_row": null,
            "grid_template_areas": null,
            "grid_template_columns": null,
            "grid_template_rows": null,
            "height": null,
            "justify_content": null,
            "justify_items": null,
            "left": null,
            "margin": null,
            "max_height": null,
            "max_width": null,
            "min_height": null,
            "min_width": null,
            "object_fit": null,
            "object_position": null,
            "order": null,
            "overflow": null,
            "overflow_x": null,
            "overflow_y": null,
            "padding": null,
            "right": null,
            "top": null,
            "visibility": null,
            "width": null
          }
        },
        "8714e5be5db3462dbd0333d3f065f479": {
          "model_module": "@jupyter-widgets/controls",
          "model_name": "DescriptionStyleModel",
          "model_module_version": "1.5.0",
          "state": {
            "_model_module": "@jupyter-widgets/controls",
            "_model_module_version": "1.5.0",
            "_model_name": "DescriptionStyleModel",
            "_view_count": null,
            "_view_module": "@jupyter-widgets/base",
            "_view_module_version": "1.2.0",
            "_view_name": "StyleView",
            "description_width": ""
          }
        },
        "edb5db5f67004ef782a9ddd1471c9c43": {
          "model_module": "@jupyter-widgets/base",
          "model_name": "LayoutModel",
          "model_module_version": "1.2.0",
          "state": {
            "_model_module": "@jupyter-widgets/base",
            "_model_module_version": "1.2.0",
            "_model_name": "LayoutModel",
            "_view_count": null,
            "_view_module": "@jupyter-widgets/base",
            "_view_module_version": "1.2.0",
            "_view_name": "LayoutView",
            "align_content": null,
            "align_items": null,
            "align_self": null,
            "border": null,
            "bottom": null,
            "display": null,
            "flex": null,
            "flex_flow": null,
            "grid_area": null,
            "grid_auto_columns": null,
            "grid_auto_flow": null,
            "grid_auto_rows": null,
            "grid_column": null,
            "grid_gap": null,
            "grid_row": null,
            "grid_template_areas": null,
            "grid_template_columns": null,
            "grid_template_rows": null,
            "height": null,
            "justify_content": null,
            "justify_items": null,
            "left": null,
            "margin": null,
            "max_height": null,
            "max_width": null,
            "min_height": null,
            "min_width": null,
            "object_fit": null,
            "object_position": null,
            "order": null,
            "overflow": null,
            "overflow_x": null,
            "overflow_y": null,
            "padding": null,
            "right": null,
            "top": null,
            "visibility": null,
            "width": null
          }
        },
        "c619103277444d8798ea03d09cb89cfa": {
          "model_module": "@jupyter-widgets/controls",
          "model_name": "ProgressStyleModel",
          "model_module_version": "1.5.0",
          "state": {
            "_model_module": "@jupyter-widgets/controls",
            "_model_module_version": "1.5.0",
            "_model_name": "ProgressStyleModel",
            "_view_count": null,
            "_view_module": "@jupyter-widgets/base",
            "_view_module_version": "1.2.0",
            "_view_name": "StyleView",
            "bar_color": null,
            "description_width": ""
          }
        },
        "9f9c320975e34cd794dd447f69f188f2": {
          "model_module": "@jupyter-widgets/base",
          "model_name": "LayoutModel",
          "model_module_version": "1.2.0",
          "state": {
            "_model_module": "@jupyter-widgets/base",
            "_model_module_version": "1.2.0",
            "_model_name": "LayoutModel",
            "_view_count": null,
            "_view_module": "@jupyter-widgets/base",
            "_view_module_version": "1.2.0",
            "_view_name": "LayoutView",
            "align_content": null,
            "align_items": null,
            "align_self": null,
            "border": null,
            "bottom": null,
            "display": null,
            "flex": null,
            "flex_flow": null,
            "grid_area": null,
            "grid_auto_columns": null,
            "grid_auto_flow": null,
            "grid_auto_rows": null,
            "grid_column": null,
            "grid_gap": null,
            "grid_row": null,
            "grid_template_areas": null,
            "grid_template_columns": null,
            "grid_template_rows": null,
            "height": null,
            "justify_content": null,
            "justify_items": null,
            "left": null,
            "margin": null,
            "max_height": null,
            "max_width": null,
            "min_height": null,
            "min_width": null,
            "object_fit": null,
            "object_position": null,
            "order": null,
            "overflow": null,
            "overflow_x": null,
            "overflow_y": null,
            "padding": null,
            "right": null,
            "top": null,
            "visibility": null,
            "width": null
          }
        },
        "495fe78b9cd74a9aab87f3507be4b1ac": {
          "model_module": "@jupyter-widgets/controls",
          "model_name": "DescriptionStyleModel",
          "model_module_version": "1.5.0",
          "state": {
            "_model_module": "@jupyter-widgets/controls",
            "_model_module_version": "1.5.0",
            "_model_name": "DescriptionStyleModel",
            "_view_count": null,
            "_view_module": "@jupyter-widgets/base",
            "_view_module_version": "1.2.0",
            "_view_name": "StyleView",
            "description_width": ""
          }
        },
        "198078c38b74498399498dfca39ddf27": {
          "model_module": "@jupyter-widgets/controls",
          "model_name": "HBoxModel",
          "model_module_version": "1.5.0",
          "state": {
            "_dom_classes": [],
            "_model_module": "@jupyter-widgets/controls",
            "_model_module_version": "1.5.0",
            "_model_name": "HBoxModel",
            "_view_count": null,
            "_view_module": "@jupyter-widgets/controls",
            "_view_module_version": "1.5.0",
            "_view_name": "HBoxView",
            "box_style": "",
            "children": [
              "IPY_MODEL_55283e07c57b4241b9ed83473acc87cd",
              "IPY_MODEL_12b0d77bdbd745a9a7639995191fe456",
              "IPY_MODEL_57d526394fcf4c42ac2bfba30d9fc44e"
            ],
            "layout": "IPY_MODEL_f4e1ced899ce485bb3571a7a94a8a107"
          }
        },
        "55283e07c57b4241b9ed83473acc87cd": {
          "model_module": "@jupyter-widgets/controls",
          "model_name": "HTMLModel",
          "model_module_version": "1.5.0",
          "state": {
            "_dom_classes": [],
            "_model_module": "@jupyter-widgets/controls",
            "_model_module_version": "1.5.0",
            "_model_name": "HTMLModel",
            "_view_count": null,
            "_view_module": "@jupyter-widgets/controls",
            "_view_module_version": "1.5.0",
            "_view_name": "HTMLView",
            "description": "",
            "description_tooltip": null,
            "layout": "IPY_MODEL_b8ffa42a2572449fa3e0d1933491910e",
            "placeholder": "​",
            "style": "IPY_MODEL_5349dd9e06464a779398df99846b9fe2",
            "value": "model.safetensors: 100%"
          }
        },
        "12b0d77bdbd745a9a7639995191fe456": {
          "model_module": "@jupyter-widgets/controls",
          "model_name": "FloatProgressModel",
          "model_module_version": "1.5.0",
          "state": {
            "_dom_classes": [],
            "_model_module": "@jupyter-widgets/controls",
            "_model_module_version": "1.5.0",
            "_model_name": "FloatProgressModel",
            "_view_count": null,
            "_view_module": "@jupyter-widgets/controls",
            "_view_module_version": "1.5.0",
            "_view_name": "ProgressView",
            "bar_style": "success",
            "description": "",
            "description_tooltip": null,
            "layout": "IPY_MODEL_1e987c449ed249029909af0993558518",
            "max": 265722260,
            "min": 0,
            "orientation": "horizontal",
            "style": "IPY_MODEL_d2cb5d0bfe724edbab52418274589749",
            "value": 265722260
          }
        },
        "57d526394fcf4c42ac2bfba30d9fc44e": {
          "model_module": "@jupyter-widgets/controls",
          "model_name": "HTMLModel",
          "model_module_version": "1.5.0",
          "state": {
            "_dom_classes": [],
            "_model_module": "@jupyter-widgets/controls",
            "_model_module_version": "1.5.0",
            "_model_name": "HTMLModel",
            "_view_count": null,
            "_view_module": "@jupyter-widgets/controls",
            "_view_module_version": "1.5.0",
            "_view_name": "HTMLView",
            "description": "",
            "description_tooltip": null,
            "layout": "IPY_MODEL_273daf9a106c437faa3b7d754d62a248",
            "placeholder": "​",
            "style": "IPY_MODEL_b71454600f9d4857ae7e1c86f77fef97",
            "value": " 266M/266M [00:03&lt;00:00, 38.0MB/s]"
          }
        },
        "f4e1ced899ce485bb3571a7a94a8a107": {
          "model_module": "@jupyter-widgets/base",
          "model_name": "LayoutModel",
          "model_module_version": "1.2.0",
          "state": {
            "_model_module": "@jupyter-widgets/base",
            "_model_module_version": "1.2.0",
            "_model_name": "LayoutModel",
            "_view_count": null,
            "_view_module": "@jupyter-widgets/base",
            "_view_module_version": "1.2.0",
            "_view_name": "LayoutView",
            "align_content": null,
            "align_items": null,
            "align_self": null,
            "border": null,
            "bottom": null,
            "display": null,
            "flex": null,
            "flex_flow": null,
            "grid_area": null,
            "grid_auto_columns": null,
            "grid_auto_flow": null,
            "grid_auto_rows": null,
            "grid_column": null,
            "grid_gap": null,
            "grid_row": null,
            "grid_template_areas": null,
            "grid_template_columns": null,
            "grid_template_rows": null,
            "height": null,
            "justify_content": null,
            "justify_items": null,
            "left": null,
            "margin": null,
            "max_height": null,
            "max_width": null,
            "min_height": null,
            "min_width": null,
            "object_fit": null,
            "object_position": null,
            "order": null,
            "overflow": null,
            "overflow_x": null,
            "overflow_y": null,
            "padding": null,
            "right": null,
            "top": null,
            "visibility": null,
            "width": null
          }
        },
        "b8ffa42a2572449fa3e0d1933491910e": {
          "model_module": "@jupyter-widgets/base",
          "model_name": "LayoutModel",
          "model_module_version": "1.2.0",
          "state": {
            "_model_module": "@jupyter-widgets/base",
            "_model_module_version": "1.2.0",
            "_model_name": "LayoutModel",
            "_view_count": null,
            "_view_module": "@jupyter-widgets/base",
            "_view_module_version": "1.2.0",
            "_view_name": "LayoutView",
            "align_content": null,
            "align_items": null,
            "align_self": null,
            "border": null,
            "bottom": null,
            "display": null,
            "flex": null,
            "flex_flow": null,
            "grid_area": null,
            "grid_auto_columns": null,
            "grid_auto_flow": null,
            "grid_auto_rows": null,
            "grid_column": null,
            "grid_gap": null,
            "grid_row": null,
            "grid_template_areas": null,
            "grid_template_columns": null,
            "grid_template_rows": null,
            "height": null,
            "justify_content": null,
            "justify_items": null,
            "left": null,
            "margin": null,
            "max_height": null,
            "max_width": null,
            "min_height": null,
            "min_width": null,
            "object_fit": null,
            "object_position": null,
            "order": null,
            "overflow": null,
            "overflow_x": null,
            "overflow_y": null,
            "padding": null,
            "right": null,
            "top": null,
            "visibility": null,
            "width": null
          }
        },
        "5349dd9e06464a779398df99846b9fe2": {
          "model_module": "@jupyter-widgets/controls",
          "model_name": "DescriptionStyleModel",
          "model_module_version": "1.5.0",
          "state": {
            "_model_module": "@jupyter-widgets/controls",
            "_model_module_version": "1.5.0",
            "_model_name": "DescriptionStyleModel",
            "_view_count": null,
            "_view_module": "@jupyter-widgets/base",
            "_view_module_version": "1.2.0",
            "_view_name": "StyleView",
            "description_width": ""
          }
        },
        "1e987c449ed249029909af0993558518": {
          "model_module": "@jupyter-widgets/base",
          "model_name": "LayoutModel",
          "model_module_version": "1.2.0",
          "state": {
            "_model_module": "@jupyter-widgets/base",
            "_model_module_version": "1.2.0",
            "_model_name": "LayoutModel",
            "_view_count": null,
            "_view_module": "@jupyter-widgets/base",
            "_view_module_version": "1.2.0",
            "_view_name": "LayoutView",
            "align_content": null,
            "align_items": null,
            "align_self": null,
            "border": null,
            "bottom": null,
            "display": null,
            "flex": null,
            "flex_flow": null,
            "grid_area": null,
            "grid_auto_columns": null,
            "grid_auto_flow": null,
            "grid_auto_rows": null,
            "grid_column": null,
            "grid_gap": null,
            "grid_row": null,
            "grid_template_areas": null,
            "grid_template_columns": null,
            "grid_template_rows": null,
            "height": null,
            "justify_content": null,
            "justify_items": null,
            "left": null,
            "margin": null,
            "max_height": null,
            "max_width": null,
            "min_height": null,
            "min_width": null,
            "object_fit": null,
            "object_position": null,
            "order": null,
            "overflow": null,
            "overflow_x": null,
            "overflow_y": null,
            "padding": null,
            "right": null,
            "top": null,
            "visibility": null,
            "width": null
          }
        },
        "d2cb5d0bfe724edbab52418274589749": {
          "model_module": "@jupyter-widgets/controls",
          "model_name": "ProgressStyleModel",
          "model_module_version": "1.5.0",
          "state": {
            "_model_module": "@jupyter-widgets/controls",
            "_model_module_version": "1.5.0",
            "_model_name": "ProgressStyleModel",
            "_view_count": null,
            "_view_module": "@jupyter-widgets/base",
            "_view_module_version": "1.2.0",
            "_view_name": "StyleView",
            "bar_color": null,
            "description_width": ""
          }
        },
        "273daf9a106c437faa3b7d754d62a248": {
          "model_module": "@jupyter-widgets/base",
          "model_name": "LayoutModel",
          "model_module_version": "1.2.0",
          "state": {
            "_model_module": "@jupyter-widgets/base",
            "_model_module_version": "1.2.0",
            "_model_name": "LayoutModel",
            "_view_count": null,
            "_view_module": "@jupyter-widgets/base",
            "_view_module_version": "1.2.0",
            "_view_name": "LayoutView",
            "align_content": null,
            "align_items": null,
            "align_self": null,
            "border": null,
            "bottom": null,
            "display": null,
            "flex": null,
            "flex_flow": null,
            "grid_area": null,
            "grid_auto_columns": null,
            "grid_auto_flow": null,
            "grid_auto_rows": null,
            "grid_column": null,
            "grid_gap": null,
            "grid_row": null,
            "grid_template_areas": null,
            "grid_template_columns": null,
            "grid_template_rows": null,
            "height": null,
            "justify_content": null,
            "justify_items": null,
            "left": null,
            "margin": null,
            "max_height": null,
            "max_width": null,
            "min_height": null,
            "min_width": null,
            "object_fit": null,
            "object_position": null,
            "order": null,
            "overflow": null,
            "overflow_x": null,
            "overflow_y": null,
            "padding": null,
            "right": null,
            "top": null,
            "visibility": null,
            "width": null
          }
        },
        "b71454600f9d4857ae7e1c86f77fef97": {
          "model_module": "@jupyter-widgets/controls",
          "model_name": "DescriptionStyleModel",
          "model_module_version": "1.5.0",
          "state": {
            "_model_module": "@jupyter-widgets/controls",
            "_model_module_version": "1.5.0",
            "_model_name": "DescriptionStyleModel",
            "_view_count": null,
            "_view_module": "@jupyter-widgets/base",
            "_view_module_version": "1.2.0",
            "_view_name": "StyleView",
            "description_width": ""
          }
        }
      }
    }
  },
  "cells": [
    {
      "cell_type": "markdown",
      "source": [
        "# __Take home task__\n"
      ],
      "metadata": {
        "id": "Cgm1Kb3zSQJb"
      }
    },
    {
      "cell_type": "markdown",
      "source": [
        "## Initial imports"
      ],
      "metadata": {
        "id": "vzVUneOcCB3A"
      }
    },
    {
      "cell_type": "code",
      "source": [
        "# Imports\n",
        "import pandas as pd\n",
        "import numpy as np\n",
        "import matplotlib.pyplot as plt\n",
        "import seaborn as sns\n",
        "from sklearn.model_selection import train_test_split\n",
        "from sklearn.preprocessing import StandardScaler, OneHotEncoder\n",
        "from sklearn.compose import ColumnTransformer\n",
        "from sklearn.pipeline import Pipeline\n",
        "from sklearn.impute import SimpleImputer\n",
        "from xgboost import XGBClassifier\n",
        "from sklearn.metrics import classification_report, confusion_matrix, roc_auc_score, f1_score, ConfusionMatrixDisplay\n",
        "import re\n",
        "from collections import Counter\n",
        "from transformers import pipeline\n",
        "from transformers import AutoTokenizer, AutoModelForTokenClassification"
      ],
      "metadata": {
        "id": "-gBYTPlFBkZu"
      },
      "execution_count": 2,
      "outputs": []
    },
    {
      "cell_type": "markdown",
      "source": [
        "## 1. Predictive modelling (binary classification)\n",
        "In this section, I will perform the initial exploratory data analysis for feature engineering decisions and classification model choice. I'll use an XGBoost algorithm to predict the readmission of patients from a test set.\n"
      ],
      "metadata": {
        "id": "F5lH-cozALzj"
      }
    },
    {
      "cell_type": "markdown",
      "source": [
        "### Basic information extraction"
      ],
      "metadata": {
        "id": "0XkXkuh9HxzN"
      }
    },
    {
      "cell_type": "code",
      "source": [
        "df = pd.read_csv(\"data.csv\")\n",
        "df.head()"
      ],
      "metadata": {
        "collapsed": true,
        "id": "-bU5CqqJBcaZ"
      },
      "execution_count": null,
      "outputs": []
    },
    {
      "cell_type": "code",
      "execution_count": 6,
      "metadata": {
        "id": "s2nZc2MVSHKA",
        "colab": {
          "base_uri": "https://localhost:8080/"
        },
        "collapsed": true,
        "outputId": "1eebb6e7-9577-42e2-c9fd-272e889571d3"
      },
      "outputs": [
        {
          "output_type": "stream",
          "name": "stdout",
          "text": [
            "<class 'pandas.core.frame.DataFrame'>\n",
            "RangeIndex: 200 entries, 0 to 199\n",
            "Data columns (total 9 columns):\n",
            " #   Column                   Non-Null Count  Dtype \n",
            "---  ------                   --------------  ----- \n",
            " 0   patient_id               200 non-null    int64 \n",
            " 1   age                      200 non-null    int64 \n",
            " 2   gender                   200 non-null    object\n",
            " 3   diagnosis_code           200 non-null    object\n",
            " 4   num_previous_admissions  200 non-null    int64 \n",
            " 5   medication_type          200 non-null    object\n",
            " 6   length_of_stay           200 non-null    int64 \n",
            " 7   readmitted_30_days       200 non-null    int64 \n",
            " 8   discharge_note           200 non-null    object\n",
            "dtypes: int64(5), object(4)\n",
            "memory usage: 14.2+ KB\n",
            "None\n",
            "       patient_id         age  num_previous_admissions  length_of_stay  \\\n",
            "count  200.000000  200.000000               200.000000      200.000000   \n",
            "mean   100.500000   53.720000                 1.600000        7.865000   \n",
            "std     57.879185   21.294574                 1.310951        4.134276   \n",
            "min      1.000000   20.000000                 0.000000        1.000000   \n",
            "25%     50.750000   34.000000                 1.000000        4.000000   \n",
            "50%    100.500000   54.000000                 1.000000        8.000000   \n",
            "75%    150.250000   73.000000                 2.000000       11.000000   \n",
            "max    200.000000   89.000000                 6.000000       14.000000   \n",
            "\n",
            "       readmitted_30_days  \n",
            "count           200.00000  \n",
            "mean              0.32500  \n",
            "std               0.46955  \n",
            "min               0.00000  \n",
            "25%               0.00000  \n",
            "50%               0.00000  \n",
            "75%               1.00000  \n",
            "max               1.00000  \n",
            "Series([], dtype: int64)\n"
          ]
        }
      ],
      "source": [
        "# Basic info\n",
        "print(df.info())\n",
        "print(df.describe())\n",
        "\n",
        "# check missing values\n",
        "missing = df.isnull().sum()\n",
        "print(missing[missing > 0])\n"
      ]
    },
    {
      "cell_type": "code",
      "source": [
        "# Readmission distribution\n",
        "sns.countplot(data=df, x='readmitted_30_days')\n",
        "plt.title(\"Readmission within 30 Days\")\n",
        "plt.show()"
      ],
      "metadata": {
        "colab": {
          "base_uri": "https://localhost:8080/",
          "height": 472
        },
        "id": "w_nBqBXUE_Rk",
        "outputId": "e15cb5c0-9128-4d22-d3b4-a5a82d070f58"
      },
      "execution_count": 7,
      "outputs": [
        {
          "output_type": "display_data",
          "data": {
            "text/plain": [
              "<Figure size 640x480 with 1 Axes>"
            ],
            "image/png": "[encoded data removed]"
          },
          "metadata": {}
        }
      ]
    },
    {
      "cell_type": "markdown",
      "source": [
        "No missing values in any of the columns, so keeping all dataframe rows.\n",
        "Also, the ranges for age seem normal. The ranges for other numerical values also seem acceptable (e.g. no length of stay spanning months/years, however this could be possible, I wouldn't have much expertise about that...).\n",
        "The rate of readmission to non-readmission within 30 days seems to be roughly 1/3."
      ],
      "metadata": {
        "id": "GkJqUiGCEDFc"
      }
    },
    {
      "cell_type": "markdown",
      "source": [
        "### 1.2.1 Numerical features EDA"
      ],
      "metadata": {
        "id": "mcrdcyPmDt63"
      }
    },
    {
      "cell_type": "markdown",
      "source": [
        "The patient_id number is removed from the correlation matrix, as it holds to relevance to the readmission of a patient (acts as a row number in the current dataframe format)."
      ],
      "metadata": {
        "id": "7qokEIJeXUIl"
      }
    },
    {
      "cell_type": "code",
      "source": [
        "plt.figure(figsize=(8, 6))\n",
        "corr_matrix = df.drop(columns=['patient_id']).corr(numeric_only=True)\n",
        "sns.heatmap(corr_matrix, annot=True, fmt=\".2f\", cmap=\"coolwarm\")\n",
        "plt.title(\"Correlation heatmap\")\n",
        "plt.show()\n"
      ],
      "metadata": {
        "colab": {
          "base_uri": "https://localhost:8080/",
          "height": 712
        },
        "id": "1NSS3M3MB5VR",
        "outputId": "9073793f-859e-47b7-acfb-286076ca1c84"
      },
      "execution_count": 8,
      "outputs": [
        {
          "output_type": "display_data",
          "data": {
            "text/plain": [
              "<Figure size 800x600 with 2 Axes>"
            ],
            "image/png": "[encoded data removed]"
          },
          "metadata": {}
        }
      ]
    },
    {
      "cell_type": "markdown",
      "source": [
        "The number of previous admissions seems to exhibit the most correlation to being readmitted after 30 days, however this correlation is not very strong. I would still include it as a relevant feature in the binary classification model."
      ],
      "metadata": {
        "id": "9la_eIzkESS5"
      }
    },
    {
      "cell_type": "code",
      "source": [
        "num_cols = ['age','num_previous_admissions','length_of_stay']\n",
        "for col in num_cols:\n",
        "    plt.figure(figsize=(6, 4))\n",
        "    sns.histplot(data=df, x=col, hue='readmitted_30_days', kde=True, element='step', stat='density', common_norm=False)\n",
        "    plt.title(f\"Distribution of {col} by Readmission\")\n",
        "    plt.show()\n"
      ],
      "metadata": {
        "colab": {
          "base_uri": "https://localhost:8080/",
          "height": 1000
        },
        "id": "MhPUplkWCXD_",
        "outputId": "ae490f17-279b-4985-f5c0-8f507f485ecb"
      },
      "execution_count": 9,
      "outputs": [
        {
          "output_type": "display_data",
          "data": {
            "text/plain": [
              "<Figure size 600x400 with 1 Axes>"
            ],
            "image/png": "[encoded data removed]"
          },
          "metadata": {}
        },
        {
          "output_type": "display_data",
          "data": {
            "text/plain": [
              "<Figure size 600x400 with 1 Axes>"
            ],
            "image/png": "[encoded data removed]"
          },
          "metadata": {}
        },
        {
          "output_type": "display_data",
          "data": {
            "text/plain": [
              "<Figure size 600x400 with 1 Axes>"
            ],
            "image/png": "[encoded data removed]"
          },
          "metadata": {}
        }
      ]
    },
    {
      "cell_type": "markdown",
      "source": [
        "Younger patients seem to have a higher relative readmission rates. On its own, the age would not be a good predictor but it will be retained as a variable alongside other influencing factors for the classification. The same can be said about the significance of the number of previous admissions: those with no previous admissions are more likely to be readmitted relative to those who have had previous admissions.\n",
        "The length of stay does highlight very weak correlation to readmission, however will be kept in modelling."
      ],
      "metadata": {
        "id": "jYnpZsrXZYlq"
      }
    },
    {
      "cell_type": "markdown",
      "source": [
        "### 1.2.2 Categorical features EDA\n",
        "For a simpler binary classification model, the unstructured text data (i.e. discharge notes) will be left out. Here, the gender, diagnosis code and medication type will be looked at in relation to the readmission status."
      ],
      "metadata": {
        "id": "U8eG6PDCE3CP"
      }
    },
    {
      "cell_type": "code",
      "source": [
        "cat_cols = ['gender', 'diagnosis_code', 'medication_type']\n",
        "\n",
        "for col in cat_cols:\n",
        "    plt.figure(figsize=(8, 4))\n",
        "    sns.countplot(data=df, x=col, hue='readmitted_30_days')\n",
        "    plt.title(f\"{col} by readmission status\")\n",
        "    plt.xticks(rotation=45)\n",
        "    plt.show()\n"
      ],
      "metadata": {
        "colab": {
          "base_uri": "https://localhost:8080/",
          "height": 1000
        },
        "collapsed": true,
        "id": "RzzQE4VwC7Lk",
        "outputId": "3d128eec-35d2-4a2e-9ea5-72b57c947ddc"
      },
      "execution_count": 10,
      "outputs": [
        {
          "output_type": "display_data",
          "data": {
            "text/plain": [
              "<Figure size 800x400 with 1 Axes>"
            ],
            "image/png": "[encoded data removed]"
          },
          "metadata": {}
        },
        {
          "output_type": "display_data",
          "data": {
            "text/plain": [
              "<Figure size 800x400 with 1 Axes>"
            ],
            "image/png": "[encoded data removed]"
          },
          "metadata": {}
        },
        {
          "output_type": "display_data",
          "data": {
            "text/plain": [
              "<Figure size 800x400 with 1 Axes>"
            ],
            "image/png": "[encoded data removed]"
          },
          "metadata": {}
        }
      ]
    },
    {
      "cell_type": "markdown",
      "source": [
        "For gender, males and females have similar readmission counts but females have a higher non-readmission count. However, it does not appear to have a lot of predictive value on its own but will still be included in the variables for the binary classification.\n",
        "The diagnosis code and medication type will definitely be kept as influencing variables for the classification, as the ratios of non readmission to readmission seem to be influenced by these features."
      ],
      "metadata": {
        "id": "C_ch09K-F3OH"
      }
    },
    {
      "cell_type": "markdown",
      "source": [
        "### 1.3 Feature engineering"
      ],
      "metadata": {
        "id": "6MnS8hFDam-F"
      }
    },
    {
      "cell_type": "markdown",
      "source": [
        "As an additional feature, it may be useful to have a variable which considers both the diagnosis and prescribed medication type."
      ],
      "metadata": {
        "id": "c1P6VA5mkmD8"
      }
    },
    {
      "cell_type": "code",
      "source": [
        "df['diagnosis_medication_combo'] = df['diagnosis_code'] + \"_\" + df['medication_type']\n"
      ],
      "metadata": {
        "id": "19tJBxXbkMxT"
      },
      "execution_count": 24,
      "outputs": []
    },
    {
      "cell_type": "code",
      "source": [
        "np.unique(df['diagnosis_medication_combo'])"
      ],
      "metadata": {
        "colab": {
          "base_uri": "https://localhost:8080/"
        },
        "id": "ojaTeQvIlI7x",
        "outputId": "ef90013d-a403-410d-f3ed-d9dced636099"
      },
      "execution_count": 27,
      "outputs": [
        {
          "output_type": "execute_result",
          "data": {
            "text/plain": [
              "array(['D001_Type A', 'D001_Type B', 'D001_Type C', 'D002_Type A',\n",
              "       'D002_Type B', 'D002_Type C', 'D003_Type A', 'D003_Type B',\n",
              "       'D003_Type C', 'D004_Type A', 'D004_Type B', 'D004_Type C'],\n",
              "      dtype=object)"
            ]
          },
          "metadata": {},
          "execution_count": 27
        }
      ]
    },
    {
      "cell_type": "markdown",
      "source": [
        "Checking for class imbalance for readmission status, we'll set a scale_pos_weight parameter."
      ],
      "metadata": {
        "id": "XGjZQb_xjh-t"
      }
    },
    {
      "cell_type": "code",
      "source": [
        "class_distribution = y.value_counts(normalize=True)\n",
        "print(class_distribution)"
      ],
      "metadata": {
        "colab": {
          "base_uri": "https://localhost:8080/"
        },
        "id": "DdgjUYAGiXc5",
        "outputId": "6d4f28e5-e828-4c69-c0d9-92cd6cfd4a9b"
      },
      "execution_count": 29,
      "outputs": [
        {
          "output_type": "stream",
          "name": "stdout",
          "text": [
            "readmitted_30_days\n",
            "0    0.675\n",
            "1    0.325\n",
            "Name: proportion, dtype: float64\n"
          ]
        }
      ]
    },
    {
      "cell_type": "code",
      "source": [
        "scale_pos_weight = class_distribution[0] / class_distribution[1]\n",
        "print(scale_pos_weight)"
      ],
      "metadata": {
        "colab": {
          "base_uri": "https://localhost:8080/"
        },
        "id": "mBxEgat-iald",
        "outputId": "215602c5-d341-407f-f72b-6c0285d66df4"
      },
      "execution_count": 30,
      "outputs": [
        {
          "output_type": "stream",
          "name": "stdout",
          "text": [
            "2.076923076923077\n"
          ]
        }
      ]
    },
    {
      "cell_type": "markdown",
      "source": [
        "### 1.4 XGBoost"
      ],
      "metadata": {
        "id": "hKAFWnafmJ20"
      }
    },
    {
      "cell_type": "markdown",
      "source": [
        "#### Without new feature (original data only)"
      ],
      "metadata": {
        "id": "te0xLLrBaN-M"
      }
    },
    {
      "cell_type": "code",
      "source": [
        "y = df['readmitted_30_days']\n",
        "x = df.drop(['readmitted_30_days', 'discharge_note', 'patient_id','diagnosis_medication_combo'], axis=1)\n",
        "categorical_cols = x.select_dtypes(include='object').columns.tolist()\n",
        "numerical_cols = x.select_dtypes(include=['int64', 'float64']).columns.tolist()"
      ],
      "metadata": {
        "id": "lqf5Ff3GaQgg"
      },
      "execution_count": 38,
      "outputs": []
    },
    {
      "cell_type": "markdown",
      "source": [
        "The categorical variables are converted to numerical variables using one-hot encoding."
      ],
      "metadata": {
        "id": "mc6GGKHYaqJ6"
      }
    },
    {
      "cell_type": "code",
      "source": [
        "categorical_pipeline = Pipeline([\n",
        "    ('imputer', SimpleImputer(strategy='most_frequent')),\n",
        "    ('encoder', OneHotEncoder(handle_unknown='ignore'))\n",
        "])\n",
        "\n",
        "numerical_pipeline = Pipeline([\n",
        "    ('imputer', SimpleImputer(strategy='mean')),\n",
        "    ('scaler', StandardScaler())\n",
        "])\n",
        "\n",
        "preprocessor = ColumnTransformer([\n",
        "    ('cat', categorical_pipeline, categorical_cols),\n",
        "    ('num', numerical_pipeline, numerical_cols)\n",
        "])"
      ],
      "metadata": {
        "id": "giOlf0Y4aUee"
      },
      "execution_count": 39,
      "outputs": []
    },
    {
      "cell_type": "code",
      "source": [
        "def evaluate_model(model, X_train, X_test, y_train, y_test):\n",
        "    model.fit(X_train, y_train)\n",
        "    y_pred = model.predict(X_test)\n",
        "    y_prob = model.predict_proba(X_test)[:,1]\n",
        "\n",
        "    print(classification_report(y_test, y_pred))\n",
        "    print(\"ROC AUC:\", roc_auc_score(y_test, y_prob))\n",
        "    print(\"F1 Score:\", f1_score(y_test, y_pred))\n",
        "\n",
        "    ConfusionMatrixDisplay(confusion_matrix(y_test, y_pred)).plot()\n",
        "    plt.title(\"Confusion Matrix\")\n",
        "    plt.show()\n"
      ],
      "metadata": {
        "id": "RdrFsRjwb3Oi"
      },
      "execution_count": 40,
      "outputs": []
    },
    {
      "cell_type": "code",
      "source": [
        "# Split data\n",
        "X_train, X_test, y_train, y_test = train_test_split(x, y, test_size=0.3, stratify=y, random_state=126)\n",
        "\n",
        "\n",
        "xg_pipeline = Pipeline([\n",
        "    ('preprocessor', preprocessor),\n",
        "    ('classifier', XGBClassifier(use_label_encoder=False, eval_metric='logloss', scale_pos_weight=scale_pos_weight))\n",
        "])\n",
        "\n",
        "evaluate_model(xg_pipeline, X_train, X_test, y_train, y_test)"
      ],
      "metadata": {
        "colab": {
          "base_uri": "https://localhost:8080/",
          "height": 732
        },
        "id": "Wx1uxKHbaXtt",
        "outputId": "2be9cd3f-a64b-4c5e-ffc9-1fa059b10c96"
      },
      "execution_count": 41,
      "outputs": [
        {
          "output_type": "stream",
          "name": "stderr",
          "text": [
            "/usr/local/lib/python3.11/dist-packages/xgboost/core.py:158: UserWarning: [10:31:00] WARNING: /workspace/src/learner.cc:740: \n",
            "Parameters: { \"use_label_encoder\" } are not used.\n",
            "\n",
            "  warnings.warn(smsg, UserWarning)\n"
          ]
        },
        {
          "output_type": "stream",
          "name": "stdout",
          "text": [
            "              precision    recall  f1-score   support\n",
            "\n",
            "           0       0.71      0.71      0.71        41\n",
            "           1       0.37      0.37      0.37        19\n",
            "\n",
            "    accuracy                           0.60        60\n",
            "   macro avg       0.54      0.54      0.54        60\n",
            "weighted avg       0.60      0.60      0.60        60\n",
            "\n",
            "ROC AUC: 0.5956354300385108\n",
            "F1 Score: 0.3684210526315789\n"
          ]
        },
        {
          "output_type": "display_data",
          "data": {
            "text/plain": [
              "<Figure size 640x480 with 2 Axes>"
            ],
            "image/png": "[encoded data removed]"
          },
          "metadata": {}
        }
      ]
    },
    {
      "cell_type": "markdown",
      "source": [
        "The XGBoost using the original data only outperforms the other one, hence the analysis will be based on the results for this one.\n",
        "\n",
        "\n",
        "The XGBoost model appears to perform better on the majority class (no readmission) whereas for the minority class (readmission) with 29/41 correct predictions (71%), it misclassified 12/19 cases (only 37% correct predictions). This can be attributed to the class imbalance in the dataset, but also to the overall data scarcity issue. The total dataset comprised 200 cases only, and with a 70-30 test split (which yielded the best results in the range of 0.15-0.35 test split), this only left 140 training samples. This is very small, especially if the goal is to capture features of a system as complex as the human body."
      ],
      "metadata": {
        "id": "ZeajE3FK8oS-"
      }
    },
    {
      "cell_type": "code",
      "source": [
        "feature_names = xg_pipeline.named_steps['preprocessor'].get_feature_names_out()\n",
        "\n",
        "# Importance scores\n",
        "importances = xg_pipeline.named_steps['classifier'].feature_importances_\n",
        "importance_series = pd.Series(importances, index=feature_names).sort_values(ascending=False)\n",
        "\n",
        "# Top 10\n",
        "top_n = 10\n",
        "importance_series.head(top_n).plot(kind='barh')\n",
        "plt.title(\"Top 10 Most Influential Features\")\n",
        "plt.xlabel(\"XGBoost Feature Importance\")\n",
        "plt.gca().invert_yaxis()\n",
        "plt.tight_layout()\n",
        "plt.show()\n"
      ],
      "metadata": {
        "colab": {
          "base_uri": "https://localhost:8080/",
          "height": 487
        },
        "id": "lTX-ilIBagFC",
        "outputId": "fbd6297b-50fa-4898-833b-0d4988554de8"
      },
      "execution_count": 42,
      "outputs": [
        {
          "output_type": "display_data",
          "data": {
            "text/plain": [
              "<Figure size 640x480 with 1 Axes>"
            ],
            "image/png": "[encoded data removed]"
          },
          "metadata": {}
        }
      ]
    },
    {
      "cell_type": "markdown",
      "source": [
        "The majority influential features were of the diagnosis and medication kind, as one would expect that the diagnosis and treatment of a patient would have a larger influence on whether or not they will be readmitted. It appears that gender was an influencing feature, as seen where females were relatively less likely to be readmitted than males (in the categorical exploratory data analysis)."
      ],
      "metadata": {
        "id": "Np6le7WAHZFe"
      }
    },
    {
      "cell_type": "markdown",
      "source": [
        "#### With new feature"
      ],
      "metadata": {
        "id": "BMQ_XAuvaKKC"
      }
    },
    {
      "cell_type": "code",
      "source": [
        "y = df['readmitted_30_days']\n",
        "x = df.drop(['readmitted_30_days', 'discharge_note', 'patient_id'], axis=1)\n",
        "categorical_cols = x.select_dtypes(include='object').columns.tolist()\n",
        "numerical_cols = x.select_dtypes(include=['int64', 'float64']).columns.tolist()\n",
        "\n",
        "categorical_pipeline = Pipeline([\n",
        "    ('imputer', SimpleImputer(strategy='most_frequent')),\n",
        "    ('encoder', OneHotEncoder(handle_unknown='ignore'))\n",
        "])\n",
        "\n",
        "numerical_pipeline = Pipeline([\n",
        "    ('imputer', SimpleImputer(strategy='mean')),\n",
        "    ('scaler', StandardScaler())\n",
        "])\n",
        "\n",
        "preprocessor = ColumnTransformer([\n",
        "    ('cat', categorical_pipeline, categorical_cols),\n",
        "    ('num', numerical_pipeline, numerical_cols)\n",
        "])\n",
        "\n",
        "# Split data\n",
        "X_train, X_test, y_train, y_test = train_test_split(x, y, test_size=0.3, stratify=y, random_state=126)\n",
        "\n",
        "\n",
        "xg_pipeline = Pipeline([\n",
        "    ('preprocessor', preprocessor),\n",
        "    ('classifier', XGBClassifier(use_label_encoder=False, eval_metric='logloss', scale_pos_weight=scale_pos_weight))\n",
        "])\n",
        "\n",
        "evaluate_model(xg_pipeline, X_train, X_test, y_train, y_test)"
      ],
      "metadata": {
        "colab": {
          "base_uri": "https://localhost:8080/",
          "height": 732
        },
        "id": "dpDftcxDlO2u",
        "outputId": "2a2c21ab-0f7b-48ca-d1d8-d91c4cf29741"
      },
      "execution_count": 43,
      "outputs": [
        {
          "output_type": "stream",
          "name": "stderr",
          "text": [
            "/usr/local/lib/python3.11/dist-packages/xgboost/core.py:158: UserWarning: [10:31:25] WARNING: /workspace/src/learner.cc:740: \n",
            "Parameters: { \"use_label_encoder\" } are not used.\n",
            "\n",
            "  warnings.warn(smsg, UserWarning)\n"
          ]
        },
        {
          "output_type": "stream",
          "name": "stdout",
          "text": [
            "              precision    recall  f1-score   support\n",
            "\n",
            "           0       0.69      0.76      0.72        41\n",
            "           1       0.33      0.26      0.29        19\n",
            "\n",
            "    accuracy                           0.60        60\n",
            "   macro avg       0.51      0.51      0.51        60\n",
            "weighted avg       0.58      0.60      0.59        60\n",
            "\n",
            "ROC AUC: 0.5738125802310655\n",
            "F1 Score: 0.29411764705882354\n"
          ]
        },
        {
          "output_type": "display_data",
          "data": {
            "text/plain": [
              "<Figure size 640x480 with 2 Axes>"
            ],
            "image/png": "[encoded data removed]"
          },
          "metadata": {}
        }
      ]
    },
    {
      "cell_type": "code",
      "source": [
        "feature_names = xg_pipeline.named_steps['preprocessor'].get_feature_names_out()\n",
        "\n",
        "# Importance scores\n",
        "importances = xg_pipeline.named_steps['classifier'].feature_importances_\n",
        "importance_series = pd.Series(importances, index=feature_names).sort_values(ascending=False)\n",
        "\n",
        "# Top 10\n",
        "top_n = 10\n",
        "importance_series.head(top_n).plot(kind='barh')\n",
        "plt.title(\"Top 10 Most Influential Features\")\n",
        "plt.xlabel(\"XGBoost Feature Importance\")\n",
        "plt.gca().invert_yaxis()\n",
        "plt.tight_layout()\n",
        "plt.show()\n"
      ],
      "metadata": {
        "colab": {
          "base_uri": "https://localhost:8080/",
          "height": 487
        },
        "id": "Hhjg2CDls_JQ",
        "outputId": "875ee897-983e-4676-8e34-55f17df84039"
      },
      "execution_count": 44,
      "outputs": [
        {
          "output_type": "display_data",
          "data": {
            "text/plain": [
              "<Figure size 640x480 with 1 Axes>"
            ],
            "image/png": "[encoded data removed]"
          },
          "metadata": {}
        }
      ]
    },
    {
      "cell_type": "markdown",
      "source": [
        "The most influential features here seem to be the new feature combining the medication and diagnosis. It is possible that this actually worsens the results, because the model overfits to a small subsample of the dataset that is too specific (very few cases have these combinations), so this leads to poor generalisation."
      ],
      "metadata": {
        "id": "pWhEP31lal1v"
      }
    },
    {
      "cell_type": "markdown",
      "source": [
        "## 2. Named entity recognition from discharge notes\n",
        "\n",
        "For this task, I will be using a biomedical NER from HuggingFace (d4data/biomedical-ner-all), and using label entity mapping from the imported model to the required labels in the task."
      ],
      "metadata": {
        "id": "y0tqJPp_tiW4"
      }
    },
    {
      "cell_type": "code",
      "source": [
        "tokenizer = AutoTokenizer.from_pretrained(\"d4data/biomedical-ner-all\")\n",
        "model = AutoModelForTokenClassification.from_pretrained(\"d4data/biomedical-ner-all\")\n",
        "\n",
        "pipe = pipeline(\"ner\", model=model, tokenizer=tokenizer, aggregation_strategy=\"simple\")\n"
      ],
      "metadata": {
        "colab": {
          "base_uri": "https://localhost:8080/",
          "height": 330,
          "referenced_widgets": [
            "ac763e7a95ac4c39b15fa420458ca024",
            "d1a352c1771040c4ba05ec0c527d995d",
            "fa3001815c7a46669eb14ddb8dd0c3f2",
            "07afbc75f42d4e1a8eccd4163f2235db",
            "87d57a5bef2a4cc3b5b639141255ee0a",
            "42405d8f2c5545adab3e640e6c85b09c",
            "5f460a01b82149da808944d9d58980c4",
            "08f0a46e663343b7b61534da981f5b03",
            "54d76f45cd0a4ba6ae83e56ff470db50",
            "0f6dce4ad75e4368af6180380b998a81",
            "0e241dcf5da44764bc5c2b858b2cee38",
            "c1320f8a96314fd88671b5024d423761",
            "f67d978cc5b5476a878c489b907ac98e",
            "4b62c130d8fb4a52901b5f4f0b6976b2",
            "293fb462a273480fbb3afcf85d289f55",
            "878dc2a5d75b4a47b070e05a17ef58aa",
            "c5d5d4b319344fcdb6f418cd82b76d2c",
            "fcdabda3441d4214b8fecd898c84ba9a",
            "e9d0bc8900174dbc8592091f91f37eaf",
            "e15cab68dc664bbfa793e62a8bf01799",
            "aea41f80d87f49488d49e7562f418f1a",
            "16cf8d265b324543a2e12c7665d378a9",
            "ff9ae3324fc845f3a211dd4eca41357e",
            "392268f375f640678c6471218e6e49d8",
            "4700f6da48884fafb47a730720106b9c",
            "bcc023761103463f9af698b19092db04",
            "784d4237664840d48a0d478064aaaeb0",
            "cddef56d03f447f5960143673b9d5863",
            "fbf731892d6349f496fdea627ee163e1",
            "163e1b21fbd24ad59545a8c8fd09869e",
            "274d9025825d4f86b2a742c8225cb8a1",
            "51e10de505e34c4f8c429c7665a1e4b6",
            "8dfad6160c7848458d7071ee7d12bcb0",
            "9c386e60316247d4b65f76d25b70a757",
            "f7ef6ac13c394e298dd553aa28f9c2dd",
            "6d78a245a71e41d78cc5166a63b08ec9",
            "6ef2c8651eab47fb81c418d94f238aa8",
            "7bed0c17e7f748e9858c852ac96ae571",
            "b126f2ef69f94eb69960d8e222dbf865",
            "875d9a36f4884a12b4f83eb057dcef45",
            "6736f82e3e81406b93e8dbb8bbdfa841",
            "201b12243ec84d439f863962f19b452d",
            "a9de7a35b785450a8172ff64afc26904",
            "c172929f7abd45bca725173789dc31d7",
            "a8e2bef8a5e449388c32a0b38bd11519",
            "6a5c4d1eab8340169403e9a340f2308a",
            "f16a67fff7594ec3aee31c1962a410ce",
            "44aef507ccd645508f4483ffec6f16f1",
            "36ac3b5c0d1e48fab92b1b65bcdfafec",
            "1c6bee1b4ec04ce0918c316cee7a797e",
            "8714e5be5db3462dbd0333d3f065f479",
            "edb5db5f67004ef782a9ddd1471c9c43",
            "c619103277444d8798ea03d09cb89cfa",
            "9f9c320975e34cd794dd447f69f188f2",
            "495fe78b9cd74a9aab87f3507be4b1ac",
            "198078c38b74498399498dfca39ddf27",
            "55283e07c57b4241b9ed83473acc87cd",
            "12b0d77bdbd745a9a7639995191fe456",
            "57d526394fcf4c42ac2bfba30d9fc44e",
            "f4e1ced899ce485bb3571a7a94a8a107",
            "b8ffa42a2572449fa3e0d1933491910e",
            "5349dd9e06464a779398df99846b9fe2",
            "1e987c449ed249029909af0993558518",
            "d2cb5d0bfe724edbab52418274589749",
            "273daf9a106c437faa3b7d754d62a248",
            "b71454600f9d4857ae7e1c86f77fef97"
          ]
        },
        "collapsed": true,
        "id": "c1ApwP2o261X",
        "outputId": "2eff66cd-e25f-4688-9285-b21096bafd7a"
      },
      "execution_count": 45,
      "outputs": [
        {
          "output_type": "stream",
          "name": "stderr",
          "text": [
            "/usr/local/lib/python3.11/dist-packages/huggingface_hub/utils/_auth.py:94: UserWarning: \n",
            "The secret `HF_TOKEN` does not exist in your Colab secrets.\n",
            "To authenticate with the Hugging Face Hub, create a token in your settings tab (https://huggingface.co/settings/tokens), set it as secret in your Google Colab and restart your session.\n",
            "You will be able to reuse this secret in all of your notebooks.\n",
            "Please note that authentication is recommended but still optional to access public models or datasets.\n",
            "  warnings.warn(\n"
          ]
        },
        {
          "output_type": "display_data",
          "data": {
            "text/plain": [
              "tokenizer_config.json:   0%|          | 0.00/373 [00:00<?, ?B/s]"
            ],
            "application/vnd.jupyter.widget-view+json": {
              "version_major": 2,
              "version_minor": 0,
              "model_id": "ac763e7a95ac4c39b15fa420458ca024"
            }
          },
          "metadata": {}
        },
        {
          "output_type": "display_data",
          "data": {
            "text/plain": [
              "vocab.txt:   0%|          | 0.00/232k [00:00<?, ?B/s]"
            ],
            "application/vnd.jupyter.widget-view+json": {
              "version_major": 2,
              "version_minor": 0,
              "model_id": "c1320f8a96314fd88671b5024d423761"
            }
          },
          "metadata": {}
        },
        {
          "output_type": "display_data",
          "data": {
            "text/plain": [
              "tokenizer.json:   0%|          | 0.00/711k [00:00<?, ?B/s]"
            ],
            "application/vnd.jupyter.widget-view+json": {
              "version_major": 2,
              "version_minor": 0,
              "model_id": "ff9ae3324fc845f3a211dd4eca41357e"
            }
          },
          "metadata": {}
        },
        {
          "output_type": "display_data",
          "data": {
            "text/plain": [
              "special_tokens_map.json:   0%|          | 0.00/125 [00:00<?, ?B/s]"
            ],
            "application/vnd.jupyter.widget-view+json": {
              "version_major": 2,
              "version_minor": 0,
              "model_id": "9c386e60316247d4b65f76d25b70a757"
            }
          },
          "metadata": {}
        },
        {
          "output_type": "display_data",
          "data": {
            "text/plain": [
              "config.json:   0%|          | 0.00/5.00k [00:00<?, ?B/s]"
            ],
            "application/vnd.jupyter.widget-view+json": {
              "version_major": 2,
              "version_minor": 0,
              "model_id": "a8e2bef8a5e449388c32a0b38bd11519"
            }
          },
          "metadata": {}
        },
        {
          "output_type": "display_data",
          "data": {
            "text/plain": [
              "model.safetensors:   0%|          | 0.00/266M [00:00<?, ?B/s]"
            ],
            "application/vnd.jupyter.widget-view+json": {
              "version_major": 2,
              "version_minor": 0,
              "model_id": "198078c38b74498399498dfca39ddf27"
            }
          },
          "metadata": {}
        },
        {
          "output_type": "stream",
          "name": "stderr",
          "text": [
            "Device set to use cpu\n"
          ]
        }
      ]
    },
    {
      "cell_type": "code",
      "source": [
        "# Notes subset, check imported model labels\n",
        "notes_subset = df['discharge_note'].dropna().head(10)\n",
        "\n",
        "# Apply NER\n",
        "ner_results = notes_subset.apply(lambda note: pipe(note))\n",
        "\n",
        "df_subset = notes_subset.to_frame()\n",
        "df_subset['d4data_entities'] = ner_results\n"
      ],
      "metadata": {
        "collapsed": true,
        "id": "F0LFTA958Piw"
      },
      "execution_count": 46,
      "outputs": []
    },
    {
      "cell_type": "code",
      "source": [
        "# display options\n",
        "pd.set_option('display.max_colwidth', None)\n",
        "pd.set_option('display.max_rows', 25)\n",
        "pd.set_option('display.max_columns', None)\n",
        "pd.set_option('display.expand_frame_repr', False)\n",
        "\n",
        "print(df_subset[['discharge_note', 'd4data_entities']])\n"
      ],
      "metadata": {
        "colab": {
          "base_uri": "https://localhost:8080/"
        },
        "id": "EnOcyFlyC1Zo",
        "outputId": "150a7760-4d63-4ff2-818b-f2724a9bd334"
      },
      "execution_count": 47,
      "outputs": [
        {
          "output_type": "stream",
          "name": "stdout",
          "text": [
            "                                                            discharge_note                                                                                                                                                                                                                                                                                                                                                                         d4data_entities\n",
            "0           Good recovery trajectory. Follow-up scan scheduled next month.                                                                                                                                                                                                                                                                                                                                                                                      []\n",
            "1                 Stable post-surgery. Advised to avoid physical exertion.                                                                                                                                                                                                                                                                                             [{'entity_group': 'Lab_value', 'score': 0.9998307, 'word': 'stable', 'start': 0, 'end': 6}]\n",
            "2                     Symptoms controlled. Monitoring for relapse advised.                                                                          [{'entity_group': 'Sign_symptom', 'score': 0.9979802, 'word': 'symptoms', 'start': 0, 'end': 8}, {'entity_group': 'Therapeutic_procedure', 'score': 0.80158, 'word': 're', 'start': 36, 'end': 38}, {'entity_group': 'Therapeutic_procedure', 'score': 0.85626924, 'word': '##lapse', 'start': 38, 'end': 43}]\n",
            "3                 Stable post-surgery. Advised to avoid physical exertion.                                                                                                                                                                                                                                                                                             [{'entity_group': 'Lab_value', 'score': 0.9998307, 'word': 'stable', 'start': 0, 'end': 6}]\n",
            "4                 Stable post-surgery. Advised to avoid physical exertion.                                                                                                                                                                                                                                                                                             [{'entity_group': 'Lab_value', 'score': 0.9998307, 'word': 'stable', 'start': 0, 'end': 6}]\n",
            "5           Good recovery trajectory. Follow-up scan scheduled next month.                                                                                                                                                                                                                                                                                                                                                                                      []\n",
            "6      Discharge after recovery from pneumonia. No complications observed.                                                                                                                                                                          [{'entity_group': 'Clinical_event', 'score': 0.9088785, 'word': 'discharge', 'start': 0, 'end': 9}, {'entity_group': 'Disease_disorder', 'score': 0.9591408, 'word': 'complications', 'start': 44, 'end': 57}]\n",
            "7  Patient discharged in stable condition. Recommend follow-up in 2 weeks.  [{'entity_group': 'Clinical_event', 'score': 0.9993606, 'word': 'discharged', 'start': 8, 'end': 18}, {'entity_group': 'Lab_value', 'score': 0.9998084, 'word': 'stable', 'start': 22, 'end': 28}, {'entity_group': 'Clinical_event', 'score': 0.9996941, 'word': 'follow', 'start': 50, 'end': 56}, {'entity_group': 'Date', 'score': 0.700211, 'word': '2', 'start': 63, 'end': 64}]\n",
            "8           Patient showed improvement. Prescribed antibiotics for 5 days.                                                                                                                                                                                             [{'entity_group': 'Medication', 'score': 0.9998267, 'word': 'antibiotics', 'start': 39, 'end': 50}, {'entity_group': 'Duration', 'score': 0.92330873, 'word': '5', 'start': 55, 'end': 56}]\n",
            "9               Blood pressure under control. Continue current medication.                                                                                                                                                                                                                                                                         [{'entity_group': 'Diagnostic_procedure', 'score': 0.9993005, 'word': 'blood pressure', 'start': 0, 'end': 14}]\n"
          ]
        }
      ]
    },
    {
      "cell_type": "markdown",
      "source": [
        "The labels provided by this model do not match the ones requested in the task, so I will map out all the unique output labels to match as closely to the ones requested. However, for those that do not match, I will keep as is."
      ],
      "metadata": {
        "id": "22LKV_i0_Ulw"
      }
    },
    {
      "cell_type": "code",
      "source": [
        "notes = df['discharge_note'].dropna()\n",
        "\n",
        "# Run the model on all notes\n",
        "ner_results = notes.apply(lambda note: pipe(note))\n",
        "\n",
        "all_entity_groups = set()\n",
        "for entities in ner_results:\n",
        "    for ent in entities:\n",
        "        all_entity_groups.add(ent['entity_group'])\n",
        "\n",
        "# Unique labels\n",
        "print(sorted(all_entity_groups))\n"
      ],
      "metadata": {
        "colab": {
          "base_uri": "https://localhost:8080/"
        },
        "id": "K0c6ex708mF0",
        "outputId": "24e8c4c4-84e5-4af5-caab-fac3b1c90121"
      },
      "execution_count": 48,
      "outputs": [
        {
          "output_type": "stream",
          "name": "stdout",
          "text": [
            "['Clinical_event', 'Date', 'Diagnostic_procedure', 'Disease_disorder', 'Duration', 'Lab_value', 'Medication', 'Severity', 'Sign_symptom', 'Therapeutic_procedure']\n"
          ]
        }
      ]
    },
    {
      "cell_type": "code",
      "source": [
        "d4data_to_custom = {\n",
        "    'Clinical_event': 'Diagnosis',\n",
        "    'Date': 'Date',\n",
        "    'Diagnostic_procedure': 'Treatment',\n",
        "    'Disease_disorder': 'Diagnosis',\n",
        "    'Duration': 'Duration',\n",
        "    'Lab_value': 'Lab_value',\n",
        "    'Medication': 'Medications',\n",
        "    'Severity': 'Severity',\n",
        "    'Sign_symptom':'Symptoms',\n",
        "    'Therapeutic_procedure': 'Treatment'\n",
        "}\n"
      ],
      "metadata": {
        "id": "JsklO8oQ9B7C"
      },
      "execution_count": 49,
      "outputs": []
    },
    {
      "cell_type": "markdown",
      "source": [
        "It should be noted that this model did not have any entity which related to follow up actions (as far as I can tell). However, it could fall under one of the therapeutic procedures or diagnostic procedure, as sometimes treatment can count as a follow up action, e.g. \"rest for 2 weeks\" or \"scan in 4 weeks\"."
      ],
      "metadata": {
        "id": "x8aSpdL5_gX4"
      }
    },
    {
      "cell_type": "code",
      "source": [
        "def map_d4data_entities(note):\n",
        "    ents = pipe(note)\n",
        "    return [(ent['word'], d4data_to_custom.get(ent['entity_group'], 'Other')) for ent in ents]\n",
        "\n",
        "# Apply to subset or full data\n",
        "df['mapped_d4data_entities'] = df['discharge_note'].dropna().apply(map_d4data_entities)\n"
      ],
      "metadata": {
        "id": "tg1jR1Ny930i"
      },
      "execution_count": 50,
      "outputs": []
    },
    {
      "cell_type": "code",
      "source": [
        "df['mapped_d4data_entities'].head()"
      ],
      "metadata": {
        "colab": {
          "base_uri": "https://localhost:8080/",
          "height": 241
        },
        "id": "otiLuw2q98UC",
        "outputId": "5ab55445-fb4e-4444-b0c5-7246b065a568"
      },
      "execution_count": 51,
      "outputs": [
        {
          "output_type": "execute_result",
          "data": {
            "text/plain": [
              "0                                                               []\n",
              "1                                            [(stable, Lab_value)]\n",
              "2    [(symptoms, Symptoms), (re, Treatment), (##lapse, Treatment)]\n",
              "3                                            [(stable, Lab_value)]\n",
              "4                                            [(stable, Lab_value)]\n",
              "Name: mapped_d4data_entities, dtype: object"
            ],
            "text/html": [
              "<div>\n",
              "<style scoped>\n",
              "    .dataframe tbody tr th:only-of-type {\n",
              "        vertical-align: middle;\n",
              "    }\n",
              "\n",
              "    .dataframe tbody tr th {\n",
              "        vertical-align: top;\n",
              "    }\n",
              "\n",
              "    .dataframe thead th {\n",
              "        text-align: right;\n",
              "    }\n",
              "</style>\n",
              "<table border=\"1\" class=\"dataframe\">\n",
              "  <thead>\n",
              "    <tr style=\"text-align: right;\">\n",
              "      <th></th>\n",
              "      <th>mapped_d4data_entities</th>\n",
              "    </tr>\n",
              "  </thead>\n",
              "  <tbody>\n",
              "    <tr>\n",
              "      <th>0</th>\n",
              "      <td>[]</td>\n",
              "    </tr>\n",
              "    <tr>\n",
              "      <th>1</th>\n",
              "      <td>[(stable, Lab_value)]</td>\n",
              "    </tr>\n",
              "    <tr>\n",
              "      <th>2</th>\n",
              "      <td>[(symptoms, Symptoms), (re, Treatment), (##lapse, Treatment)]</td>\n",
              "    </tr>\n",
              "    <tr>\n",
              "      <th>3</th>\n",
              "      <td>[(stable, Lab_value)]</td>\n",
              "    </tr>\n",
              "    <tr>\n",
              "      <th>4</th>\n",
              "      <td>[(stable, Lab_value)]</td>\n",
              "    </tr>\n",
              "  </tbody>\n",
              "</table>\n",
              "</div><br><label><b>dtype:</b> object</label>"
            ]
          },
          "metadata": {},
          "execution_count": 51
        }
      ]
    },
    {
      "cell_type": "code",
      "source": [
        "print(df[['discharge_note', 'mapped_d4data_entities']].head(10))"
      ],
      "metadata": {
        "colab": {
          "base_uri": "https://localhost:8080/"
        },
        "id": "eMUxqnSD-FBr",
        "outputId": "0c053dca-8db1-4797-89e3-85446420d15b"
      },
      "execution_count": 52,
      "outputs": [
        {
          "output_type": "stream",
          "name": "stdout",
          "text": [
            "                                                            discharge_note                                                          mapped_d4data_entities\n",
            "0           Good recovery trajectory. Follow-up scan scheduled next month.                                                                              []\n",
            "1                 Stable post-surgery. Advised to avoid physical exertion.                                                           [(stable, Lab_value)]\n",
            "2                     Symptoms controlled. Monitoring for relapse advised.                   [(symptoms, Symptoms), (re, Treatment), (##lapse, Treatment)]\n",
            "3                 Stable post-surgery. Advised to avoid physical exertion.                                                           [(stable, Lab_value)]\n",
            "4                 Stable post-surgery. Advised to avoid physical exertion.                                                           [(stable, Lab_value)]\n",
            "5           Good recovery trajectory. Follow-up scan scheduled next month.                                                                              []\n",
            "6      Discharge after recovery from pneumonia. No complications observed.                            [(discharge, Diagnosis), (complications, Diagnosis)]\n",
            "7  Patient discharged in stable condition. Recommend follow-up in 2 weeks.  [(discharged, Diagnosis), (stable, Lab_value), (follow, Diagnosis), (2, Date)]\n",
            "8           Patient showed improvement. Prescribed antibiotics for 5 days.                                     [(antibiotics, Medications), (5, Duration)]\n",
            "9               Blood pressure under control. Continue current medication.                                                   [(blood pressure, Treatment)]\n"
          ]
        }
      ]
    },
    {
      "cell_type": "markdown",
      "source": [
        "The assignment of relevant labels was partially successful, in that it did identify key words and terms within the discharge note and assign it a label.\n",
        "However, the labels were often incorrect or misleading. For example 'follow' was labelled as diagnosis, due to using a model which did not have an entity group for follow up actions to map to. Another example of error is the assignment of the label treatment to 'blood pressure'. Also, the model I used did not have the same entity labels as the task instructions, and mapping their labels to the ones here introduced ambiguity. And finally, due to the lack of follow up action labels, some discharge notes were not assigned any labels at all as they did not include any other entity aside from a future action or a prognosis.\n",
        "For example, a term like “surgery” could refer to a symptom (e.g. a previous surgery causing issue), treatment (e.g. a treatment for the diagnosis), or follow-up (e.g. a surgery later on if need be) depending on the phrasing, but the model doesn’t have that level of contextual understanding. This highlights the importance of model selection for entity recognition, but also the model’s ability to recognise the word or term in the broader context and not just matching keywords. It's also understanding how they function within a clinical/medical specific narrative.\n",
        "Finally, LLM hallucinations in this type of task could look like the model assigning a diagnosis or medication label to a word that doesn’t clearly refer to one in the discharge note. For example, discharge note 7 (index 6) says:\n",
        "'Discharge after recovery from pneumonia. No complications observed.' and the model assigned the following labels: [(discharge, Diagnosis), (complications, Diagnosis)]. It categorised discharge and complications as a diagnosis, when really the context of the note is a positive prognosis, and the key word for the original diagnosis is pneumonia, which was not labelled at all. This kind of error shows up when the model misses/misidentifies terms and fills in gaps based on assumption rather than context, which carries a lot of risk in clinical settings. So even when the labels seem reasonable we can’t assume correctness without human input and oversight.\n"
      ],
      "metadata": {
        "id": "krzl1W0d--hi"
      }
    }
  ]
}